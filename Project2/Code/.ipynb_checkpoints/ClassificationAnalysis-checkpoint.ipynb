{
 "cells": [
  {
   "cell_type": "markdown",
   "metadata": {},
   "source": [
    "# Classification Analysis"
   ]
  },
  {
   "cell_type": "code",
   "execution_count": null,
   "metadata": {},
   "outputs": [],
   "source": [
    "# Libraries for working with and plotting data\n",
    "import numpy as np\n",
    "import matplotlib.pyplot as plt\n",
    "from sklearn.linear_model import LogisticRegression\n",
    "from sklearn.model_selection import train_test_split\n",
    "from sklearn.datasets import load_digits\n",
    "from sklearn.preprocessing import StandardScaler\n",
    "from sklearn.metrics import accuracy_score\n",
    "from sklearn.linear_model import SGDClassifier\n",
    "# Importing own classes and functions\n",
    "from logisticReg import SoftmaxReg \n",
    "from gdOptimizers import GDOptimizers\n",
    "from FFNN import FFNN\n",
    "from gridTest import gridTest"
   ]
  },
  {
   "cell_type": "markdown",
   "metadata": {},
   "source": [
    "## Setup of data"
   ]
  },
  {
   "cell_type": "code",
   "execution_count": null,
   "metadata": {},
   "outputs": [],
   "source": [
    "digits = load_digits()\n",
    "targets = np.zeros((len(digits.target), 10))\n",
    "for i in range(len(digits.target)):\n",
    "    targets[i, digits.target[i]] = 1\n",
    "    \n",
    "x_train, x_test, y_train, y_test = train_test_split(digits.data, targets, test_size=0.2, random_state=0)"
   ]
  },
  {
   "cell_type": "code",
   "execution_count": null,
   "metadata": {},
   "outputs": [],
   "source": [
    "image, label = digits.data[0], digits.target[0]\n",
    "image = image.reshape((8,8))\n",
    "plt.imshow(image, cmap='gray')\n",
    "print('Label:', label)"
   ]
  },
  {
   "cell_type": "markdown",
   "metadata": {},
   "source": [
    "## Classification with Logistic regression using SGD"
   ]
  },
  {
   "cell_type": "code",
   "execution_count": null,
   "metadata": {},
   "outputs": [],
   "source": [
    "sgd = GDOptimizers(learning_rate = 0.01, epochs = 100, batch_size = 10, optimizer = \"SGD\")\n",
    "model = SoftmaxReg(64, 10, lmda = 0.01, sgd = sgd)\n",
    "\n",
    "model.fit(x_train, y_train)\n",
    "y_train_mdl = model.predict(x_train)\n",
    "y_train_mdl = (y_train_mdl > 0.5).astype(int)\n",
    "y_test_mdl = model.predict(x_test)\n",
    "y_test_mdl = (y_test_mdl > 0.5).astype(int)\n",
    "\n",
    "print(accuracy_score(y_train_mdl, y_train))\n",
    "print(accuracy_score(y_test_mdl, y_test))"
   ]
  },
  {
   "cell_type": "code",
   "execution_count": null,
   "metadata": {},
   "outputs": [],
   "source": [
    "def createLR(eta, lmda, params):\n",
    "    sgd = GDOptimizers(learning_rate = eta, epochs = 100, batch_size = 10, optimizer = \"SGD\")\n",
    "    model = SoftmaxReg(params[\"n_in\"], params[\"n_out\"], lmda, sgd)\n",
    "    return model"
   ]
  },
  {
   "cell_type": "code",
   "execution_count": null,
   "metadata": {},
   "outputs": [],
   "source": [
    "etas = np.logspace(-4, -1, 6)\n",
    "lmdas = np.logspace(-4, -1, 6)\n",
    "\n",
    "params = {\"n_in\": 64, \"n_out\":10}\n",
    "gridTest(etas, lmdas, createLR, params, 'accuracy', x_train, x_test, y_train, y_test)"
   ]
  },
  {
   "cell_type": "markdown",
   "metadata": {},
   "source": [
    "## Classification with our Neural Network"
   ]
  },
  {
   "cell_type": "code",
   "execution_count": null,
   "metadata": {},
   "outputs": [],
   "source": [
    "nn = FFNN(inputs = 64)\n",
    "nn.addLayer(neurons = 10, activation = \"softmax\")\n",
    "points = x_train.shape[0]\n",
    "sgd = GDOptimizers(learning_rate = 0.01, epochs = 100, batch_size = 10, optimizer = \"SGD\")\n",
    "nn.compile(loss = \"cross\", optimizer=sgd, lmda = 0.01)\n",
    "\n",
    "nn.fit(x_train, y_train)\n",
    "y_train_mdl = nn.predict(x_train)\n",
    "y_train_mdl = (y_train_mdl > 0.5).astype(int)\n",
    "y_test_mdl = nn.predict(x_test)\n",
    "y_test_mdl = (y_test_mdl > 0.5).astype(int)\n",
    "\n",
    "print(accuracy_score(y_train_mdl, y_train))\n",
    "print(accuracy_score(y_test_mdl, y_test))"
   ]
  },
  {
   "cell_type": "code",
   "execution_count": null,
   "metadata": {},
   "outputs": [],
   "source": [
    "nn = FFNN(inputs = 64)\n",
    "nn.addLayer(neurons = 10, activation = \"softmax\")\n",
    "sgd = GDOptimizers(learning_rate = 0.01, epochs = 5, batch_size = 10, optimizer = \"SGD\")\n",
    "nn.compile(loss = \"cross\", optimizer=sgd, lmda = 0.01)\n",
    "nn._theta[0][0] = model._theta[0]\n",
    "nn._theta[0][1] = model._theta[1]"
   ]
  },
  {
   "cell_type": "code",
   "execution_count": null,
   "metadata": {},
   "outputs": [],
   "source": []
  },
  {
   "cell_type": "code",
   "execution_count": null,
   "metadata": {},
   "outputs": [],
   "source": [
    "y_train_mdl = nn.predict(x_train)\n",
    "y_train_mdl = (y_train_mdl > 0.5).astype(int)\n",
    "print(accuracy_score(y_train_mdl, y_train))\n",
    "\n",
    "g1 = nn._gradient(x_train, y_train, nn._theta)\n",
    "print(g1.shape)"
   ]
  },
  {
   "cell_type": "code",
   "execution_count": null,
   "metadata": {},
   "outputs": [],
   "source": [
    "sgd = GDOptimizers(learning_rate = 0.01, epochs = 5, batch_size = 10, optimizer = \"SGD\")\n",
    "model = SoftmaxReg(64, 10, lmda = 0.01, sgd = sgd)"
   ]
  },
  {
   "cell_type": "code",
   "execution_count": null,
   "metadata": {},
   "outputs": [],
   "source": [
    "#model.fit(x_train, y_train)\n",
    "y_train_mdl = model.predict(x_train)\n",
    "y_train_mdl = (y_train_mdl > 0.5).astype(int)\n",
    "print(accuracy_score(y_train_mdl, y_train))\n",
    "\n",
    "g2 = model._gradient(x_train, y_train, model._theta)\n",
    "print(g2.shape[0])"
   ]
  },
  {
   "cell_type": "code",
   "execution_count": null,
   "metadata": {},
   "outputs": [],
   "source": [
    "nn.fit(x_train, y_train)"
   ]
  },
  {
   "cell_type": "code",
   "execution_count": null,
   "metadata": {},
   "outputs": [],
   "source": [
    "y_train_mdl = nn.predict(x_train)\n",
    "y_train_mdl = (y_train_mdl > 0.5).astype(int)\n",
    "print(accuracy_score(y_train_mdl, y_train))"
   ]
  },
  {
   "cell_type": "code",
   "execution_count": null,
   "metadata": {},
   "outputs": [],
   "source": [
    "model.fit(x_train, y_train)"
   ]
  },
  {
   "cell_type": "code",
   "execution_count": null,
   "metadata": {},
   "outputs": [],
   "source": []
  },
  {
   "cell_type": "code",
   "execution_count": null,
   "metadata": {},
   "outputs": [],
   "source": [
    "y_train_mdl = model.predict(x_train)\n",
    "y_train_mdl = (y_train_mdl > 0.5).astype(int)\n",
    "print(accuracy_score(y_train_mdl, y_train))"
   ]
  },
  {
   "cell_type": "markdown",
   "metadata": {},
   "source": [
    "#### Grid for the neural net:"
   ]
  },
  {
   "cell_type": "code",
   "execution_count": null,
   "metadata": {},
   "outputs": [],
   "source": [
    "def createNN(eta, lmda, params):\n",
    "    nn = FFNN(inputs = params[\"inputs\"])\n",
    "    for nrons, activation in zip(params[\"neurons\"], params[\"activations\"]):\n",
    "        nn.addLayer(neurons = nrons, activation = activation)\n",
    "\n",
    "    sgd = GDOptimizers(learning_rate = eta, epochs = 100, batch_size = 10, optimizer = \"SGD\")\n",
    "    nn.compile(loss = params[\"loss\"], optimizer=sgd, lmda = lmda)\n",
    "    return nn"
   ]
  },
  {
   "cell_type": "code",
   "execution_count": null,
   "metadata": {},
   "outputs": [],
   "source": [
    "etas = np.logspace(-4, -1, 6)\n",
    "lmdas = np.logspace(-4, -1, 6)\n",
    "\n",
    "params = {\"inputs\": 64, \"neurons\": [10], \"activations\":[\"softmax\"], \"loss\":\"cross\"}\n",
    "gridTest(etas, lmdas, createNN, params, 'accuracy', x_train, x_test, y_train, y_test)"
   ]
  },
  {
   "cell_type": "markdown",
   "metadata": {},
   "source": [
    "## Classification with Sklearn"
   ]
  },
  {
   "cell_type": "code",
   "execution_count": null,
   "metadata": {},
   "outputs": [],
   "source": [
    "#scaler = StandardScaler()\n",
    "#scaler.fit(x_train)\n",
    "#x_train_sk = scaler.transform(x_train)\n",
    "#x_test_sk = scaler.transform(x_test)\n",
    "\n",
    "# y_data has to be label, not onehot vector for Sklearn\n",
    "y_train_sk = np.argmax(y_train, axis=1)\n",
    "y_test_sk = np.argmax(y_test, axis=1)"
   ]
  },
  {
   "cell_type": "code",
   "execution_count": null,
   "metadata": {},
   "outputs": [],
   "source": [
    "model = LogisticRegression(penalty = 'l2', solver='saga', multi_class='multinomial', max_iter=100)\n",
    "model.fit(x_train, y_train_sk)\n",
    "\n",
    "y_mdl = model.predict(x_test)\n",
    "print(accuracy_score(y_mdl, y_test_sk))"
   ]
  },
  {
   "cell_type": "code",
   "execution_count": null,
   "metadata": {},
   "outputs": [],
   "source": [
    "model = SGDClassifier(penalty='l2', loss='log', alpha = 0.01, learning_rate = 'constant', eta0 = 0.001)\n",
    "model.fit(x_train, y_train_sk)\n",
    "\n",
    "y_mdl = model.predict(x_test)\n",
    "print(accuracy_score(y_mdl, y_test_sk))"
   ]
  },
  {
   "cell_type": "markdown",
   "metadata": {},
   "source": [
    "#### Grid for the logistic regression sklearn:"
   ]
  },
  {
   "cell_type": "code",
   "execution_count": null,
   "metadata": {},
   "outputs": [],
   "source": [
    "def createLRsklearn(eta, lmda, params):\n",
    "    model = SGDClassifier(penalty= params[\"penalty\"], loss=params[\"loss\"], alpha = lmda, learning_rate = 'constant', eta0 = eta)\n",
    "    return model"
   ]
  },
  {
   "cell_type": "code",
   "execution_count": null,
   "metadata": {},
   "outputs": [],
   "source": [
    "etas = np.logspace(-5, -1, 6)\n",
    "lmdas = np.logspace(-4, -1, 6)\n",
    "\n",
    "params = {\"penalty\": 'l2', \"loss\": 'log'}\n",
    "gridTest(etas, lmdas, createLRsklearn, params, 'accuracy_skl', x_train, x_test, y_train_sk, y_test_sk)"
   ]
  },
  {
   "cell_type": "code",
   "execution_count": null,
   "metadata": {},
   "outputs": [],
   "source": []
  },
  {
   "cell_type": "code",
   "execution_count": null,
   "metadata": {},
   "outputs": [],
   "source": [
    "nn.fit(x_train, y_train)"
   ]
  },
  {
   "cell_type": "code",
   "execution_count": null,
   "metadata": {},
   "outputs": [],
   "source": [
    "model.fit(x_train, y_train)"
   ]
  },
  {
   "cell_type": "code",
   "execution_count": null,
   "metadata": {},
   "outputs": [],
   "source": []
  }
 ],
 "metadata": {
  "kernelspec": {
   "display_name": "Python 3",
   "language": "python",
   "name": "python3"
  },
  "language_info": {
   "codemirror_mode": {
    "name": "ipython",
    "version": 3
   },
   "file_extension": ".py",
   "mimetype": "text/x-python",
   "name": "python",
   "nbconvert_exporter": "python",
   "pygments_lexer": "ipython3",
   "version": "3.7.9"
  }
 },
 "nbformat": 4,
 "nbformat_minor": 4
}
