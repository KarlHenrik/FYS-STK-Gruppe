{
 "cells": [
  {
   "cell_type": "code",
   "execution_count": 3,
   "metadata": {},
   "outputs": [],
   "source": [
    "# import necessary packages\n",
    "import numpy as np\n",
    "import matplotlib.pyplot as plt"
   ]
  },
  {
   "cell_type": "markdown",
   "metadata": {},
   "source": [
    "### Sklearn:"
   ]
  },
  {
   "cell_type": "code",
   "execution_count": 4,
   "metadata": {},
   "outputs": [
    {
     "data": {
      "text/plain": [
       "LogisticRegression()"
      ]
     },
     "execution_count": 4,
     "metadata": {},
     "output_type": "execute_result"
    }
   ],
   "source": [
    "# fetching LogisticRegression and dataset rom sklearn\n",
    "from sklearn.linear_model import LogisticRegression\n",
    "from sklearn.model_selection import train_test_split\n",
    "from sklearn.datasets import load_digits\n",
    "from sklearn.preprocessing import StandardScaler\n",
    "\n",
    "digits = load_digits()\n",
    "x_train, x_test, y_train, y_test = train_test_split(digits.data, digits.target, test_size=0.2, random_state=0)\n",
    "logReg = LogisticRegression()\n",
    "\n",
    "scaler = StandardScaler()\n",
    "scaler.fit(x_train)\n",
    "x_train = scaler.transform(x_train)  \n",
    "\n",
    "logReg.fit(x_train,y_train)"
   ]
  },
  {
   "cell_type": "code",
   "execution_count": 5,
   "metadata": {},
   "outputs": [
    {
     "name": "stdout",
     "output_type": "stream",
     "text": [
      "0.7305555555555555\n"
     ]
    }
   ],
   "source": [
    "predictions = logReg.predict(x_test)\n",
    "score = logReg.score(x_test, y_test)\n",
    "print(score)"
   ]
  },
  {
   "cell_type": "markdown",
   "metadata": {},
   "source": [
    "### Own code:"
   ]
  },
  {
   "cell_type": "code",
   "execution_count": null,
   "metadata": {},
   "outputs": [],
   "source": [
    "# Softemax function\n",
    "def softmaxfunc(X,theta): \n",
    "    h = 1/(1+exp(-theta.T @ X))\n",
    "    return h\n",
    "\n",
    "def costfunc(h,y):\n",
    "    cost = -y.T @ np.log(h) - (1-y).T @ np.log(h)\n",
    "    cost = (1/len(h)) * cost\n",
    "    return cost\n",
    "\n",
    "def costderiv()\n",
    "\n",
    "    \n",
    "\n",
    "\n",
    "# Define Cost function\n",
    "def cost(t, h, l=l, X=X, y=y, m=m):\n",
    "    cost = (-y).T @ np.log(h) - (1-y).T @ np.log(1-h) + (l/2) * (t[1:]).T @ t[1:]\n",
    "    cost = (1/m)*cost\n",
    "    return cost\n",
    "\n",
    "# Define first derivative of cost function\n",
    "def cost_dev(j, t, X=X, y=y, m=m):\n",
    "    dev = X[:, j]@(1/(1 + np.exp(-X@theta)) - y)\n",
    "    dev = (1/m)*dev\n",
    "    return dev\n",
    "# Define iterations\n",
    "cost_list = []\n",
    "theta_temp = np.zeros(theta.shape)\n",
    "theta_list = []\n",
    "for i in range(1000000):\n",
    "    \n",
    "    for j in range(len(theta)): \n",
    "        if j == 0:\n",
    "            theta_temp[j] = theta[j] - a*cost_dev(j, theta)\n",
    "        else:\n",
    "            theta_temp[j] = theta[j]*(1 - (a*lmbd)/m) - a*cost_dev(j, theta)\n",
    "    \n",
    "    theta = theta_temp        \n",
    "    hypo = 1/(1 + np.exp(-X@theta))\n",
    "    \n",
    "    theta_list.append(list(theta))\n",
    "    cost_val = cost(theta, hypo)\n",
    "    cost_list.append(cost_val)"
   ]
  }
 ],
 "metadata": {
  "kernelspec": {
   "display_name": "Python 3",
   "language": "python",
   "name": "python3"
  },
  "language_info": {
   "codemirror_mode": {
    "name": "ipython",
    "version": 3
   },
   "file_extension": ".py",
   "mimetype": "text/x-python",
   "name": "python",
   "nbconvert_exporter": "python",
   "pygments_lexer": "ipython3",
   "version": "3.8.3"
  }
 },
 "nbformat": 4,
 "nbformat_minor": 4
}
