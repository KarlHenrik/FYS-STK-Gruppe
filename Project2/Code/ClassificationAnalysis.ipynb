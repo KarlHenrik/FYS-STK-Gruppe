{
 "cells": [
  {
   "cell_type": "code",
   "execution_count": null,
   "metadata": {},
   "outputs": [],
   "source": [
    "# import necessary packages\n",
    "import numpy as np\n",
    "import matplotlib.pyplot as plt\n",
    "from gridTest import gridTest\n",
    "from FFNN import FFNN\n",
    "# fetching LogisticRegression and dataset rom sklearn\n",
    "from sklearn.linear_model import LogisticRegression\n",
    "from sklearn.model_selection import train_test_split\n",
    "from sklearn.datasets import load_digits\n",
    "from sklearn.preprocessing import StandardScaler\n",
    "from sklearn.metrics import accuracy_score"
   ]
  },
  {
   "cell_type": "markdown",
   "metadata": {},
   "source": [
    "### Own code:"
   ]
  },
  {
   "cell_type": "code",
   "execution_count": null,
   "metadata": {},
   "outputs": [],
   "source": [
    "from logisticReg import SoftmaxReg \n",
    "from gdOptimizers import GDOptimizers"
   ]
  },
  {
   "cell_type": "code",
   "execution_count": null,
   "metadata": {},
   "outputs": [],
   "source": [
    "digits = load_digits()\n",
    "targets = np.zeros((len(digits.target), 10))\n",
    "for i in range(len(digits.target)):\n",
    "    targets[i, digits.target[i]] = 1\n",
    "    \n",
    "x_train, x_test, y_train, y_test = train_test_split(digits.data, targets, test_size=0.2, random_state=0)"
   ]
  },
  {
   "cell_type": "code",
   "execution_count": null,
   "metadata": {},
   "outputs": [],
   "source": [
    "image, label = digits.data[0], digits.target[0]\n",
    "image = image.reshape((8,8))\n",
    "plt.imshow(image, cmap='gray')\n",
    "print('Label:', label)"
   ]
  },
  {
   "cell_type": "code",
   "execution_count": null,
   "metadata": {},
   "outputs": [],
   "source": [
    "sgd = GDOptimizers(learning_rate = 0.01, epochs = 100, batch_size = 10, optimizer = \"SGD\")\n",
    "model = SoftmaxReg(64,10,0.01, sgd)\n",
    "\n",
    "model.fit(x_train, y_train)\n",
    "y_train_mdl = (y_train_mdl > 0.5).astype(int)\n",
    "print(accuracy_score(y_train_mdl, y_train))\n",
    "\n",
    "y_test_mdl = model.predict(x_test)\n",
    "y_test_mdl = (y_test_mdl > 0.5).astype(int)\n",
    "print(accuracy_score(y_test_mdl, y_test))"
   ]
  },
  {
   "cell_type": "markdown",
   "metadata": {},
   "source": [
    "### Sklearn:"
   ]
  },
  {
   "cell_type": "code",
   "execution_count": null,
   "metadata": {},
   "outputs": [],
   "source": [
    "#digits = load_digits()\n",
    "#x_train, x_test, y_train, y_test = train_test_split(digits.data, digits.target, test_size=0.2, random_state=0)\n",
    "logReg = LogisticRegression(penalty = 'l1',solver='saga', multi_class='multinomial')\n",
    "\n",
    "scaler = StandardScaler()\n",
    "scaler.fit(x_train)\n",
    "x_train = scaler.transform(x_train)  \n",
    "\n",
    "logReg.fit(x_train,y_train)"
   ]
  },
  {
   "cell_type": "code",
   "execution_count": null,
   "metadata": {},
   "outputs": [],
   "source": [
    "predictions = logReg.predict(x_test)\n",
    "score = logReg.score(x_test, y_test)\n",
    "print(score)"
   ]
  },
  {
   "cell_type": "code",
   "execution_count": null,
   "metadata": {},
   "outputs": [],
   "source": [
    "from sklearn.linear_model import SGDClassifier\n",
    "x_train, x_test, y_train, y_test = train_test_split(digits.data, digits.target, test_size=0.2, random_state=0)\n",
    "logReg2 = SGDClassifier(penalty='l1',loss='log')\n",
    "scaler = StandardScaler()\n",
    "scaler.fit(x_train)\n",
    "x_train = scaler.transform(x_train)  \n",
    "\n",
    "logReg2.fit(x_train,y_train)"
   ]
  },
  {
   "cell_type": "code",
   "execution_count": null,
   "metadata": {},
   "outputs": [],
   "source": [
    "predictions = logReg2.predict(x_test)\n",
    "score = logReg2.score(x_test, y_test)\n",
    "print(score)"
   ]
  },
  {
   "cell_type": "markdown",
   "metadata": {},
   "source": [
    "### Making grids"
   ]
  },
  {
   "cell_type": "markdown",
   "metadata": {},
   "source": [
    "#### Grid for the logistic regression function:"
   ]
  },
  {
   "cell_type": "code",
   "execution_count": null,
   "metadata": {},
   "outputs": [],
   "source": [
    "def createLR(eta, lmda, params):\n",
    "    sgd = GDOptimizers(learning_rate = eta, epochs = 100, batch_size = 10, optimizer = \"SGD\")\n",
    "    LRmodel = SoftmaxReg(params[\"n_in\"],params[\"n_out\"], lmda, sgd)\n",
    "    return LRmodel"
   ]
  },
  {
   "cell_type": "code",
   "execution_count": null,
   "metadata": {},
   "outputs": [],
   "source": [
    "etas = np.logspace(-8, -4, 8)\n",
    "lmdas = np.logspace(-5, -1, 7)\n",
    "\n",
    "params = {\"n_in\": 64, \"n_out\":10}\n",
    "gridTest(etas, lmdas, createLR, params, 'accuracy', x_train, x_test, y_train, y_test)"
   ]
  },
  {
   "cell_type": "markdown",
   "metadata": {},
   "source": [
    "#### Grid for the neural net:"
   ]
  },
  {
   "cell_type": "code",
   "execution_count": null,
   "metadata": {},
   "outputs": [],
   "source": [
    "def createNN(eta, lmda, params):\n",
    "    nn = FFNN(inputs = params[\"inputs\"])\n",
    "    for nrons, activation in zip(params[\"neurons\"], params[\"activations\"]):\n",
    "        nn.addLayer(neurons = nrons, activation = activation)\n",
    "\n",
    "    sgd = GDOptimizers(learning_rate = eta, epochs = 100, batch_size = 10, optimizer = \"SGD\")\n",
    "    nn.compile(loss = params[\"loss\"], optimizer=sgd, lmda = lmda)\n",
    "    return nn"
   ]
  },
  {
   "cell_type": "code",
   "execution_count": null,
   "metadata": {},
   "outputs": [],
   "source": [
    "etas = np.logspace(-8, -4, 8)\n",
    "lmdas = np.logspace(-5, -1, 7)\n",
    "\n",
    "params = {\"inputs\": 64, \"neurons\": [5,10], \"activations\":[\"sigmoid\", \"softmax\"], \"loss\":\"cross\"}\n",
    "gridTest(etas, lmdas, createNN, params, 'accuracy', x_train, x_test, y_train, y_test)"
   ]
  }
 ],
 "metadata": {
  "kernelspec": {
   "display_name": "Python 3",
   "language": "python",
   "name": "python3"
  },
  "language_info": {
   "codemirror_mode": {
    "name": "ipython",
    "version": 3
   },
   "file_extension": ".py",
   "mimetype": "text/x-python",
   "name": "python",
   "nbconvert_exporter": "python",
   "pygments_lexer": "ipython3",
   "version": "3.8.3"
  }
 },
 "nbformat": 4,
 "nbformat_minor": 4
}
