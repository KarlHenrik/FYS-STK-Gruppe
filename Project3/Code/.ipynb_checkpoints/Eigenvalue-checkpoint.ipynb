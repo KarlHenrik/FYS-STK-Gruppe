{
 "cells": [
  {
   "cell_type": "code",
   "execution_count": 1,
   "metadata": {},
   "outputs": [],
   "source": [
    "import tensorflow as tf\n",
    "import numpy as np\n",
    "import matplotlib.pyplot as plt\n",
    "from matplotlib import cm\n",
    "from mpl_toolkits.mplot3d import axes3d\n",
    "from tensorflow.keras.models import Sequential      #This allows appending layers to existing models\n",
    "from tensorflow.keras.layers import Dense           #This allows defining the characteristics of a particular layer\n",
    "from tensorflow.keras import optimizers             #This allows using whichever optimiser we want (sgd,adam,RMSprop)\n",
    "from tensorflow.keras.regularizers import l2\n",
    "tf.keras.backend.set_floatx('float64')"
   ]
  },
  {
   "cell_type": "code",
   "execution_count": 30,
   "metadata": {},
   "outputs": [],
   "source": [
    "def loss(model, x0, t):\n",
    "    with tf.GradientTape() as tape_t:\n",
    "        tape_t.watch([t])\n",
    "        x_net = tf.exp(-t) @ x0 + model(t) * (1-tf.exp(-t))\n",
    "    dx_dt = tape_t.batch_jacobian(x_net, t)[:, :, 0] # This takes the gradient of each element of x for each time step\n",
    "    \n",
    "    dx_dt = tf.transpose(dx_dt) # We need to transpose, as x_net is a collection of row vectors,\n",
    "    x_net = tf.transpose(x_net) # but we need a collection of column vectors for the matrix multiplications\n",
    "    \n",
    "    Ax = A @ x_net\n",
    "    xTx = tf.einsum(\"ij,ji->i\", tf.transpose(x_net), x_net)\n",
    "    xTAx = tf.einsum(\"ij,ji->i\", tf.transpose(x_net), Ax)\n",
    "    fx = xTx * Ax + (1 - xTAx) * x_net\n",
    "    \n",
    "    return tf.losses.mean_squared_error(model.zeros, dx_dt - fx + x_net)\n",
    "\n",
    "def train(model, optimizer, x0, t):\n",
    "    with tf.GradientTape() as tape:\n",
    "        current_loss = loss(model, x0, t)\n",
    "\n",
    "    grads = tape.gradient(current_loss, model.trainable_variables)\n",
    "    model.optimizer.apply_gradients(zip(grads, model.trainable_variables))\n",
    "\n",
    "def eigenMdl(x0, t, A):\n",
    "    x0 /= np.linalg.norm(x0) # normalize\n",
    "    x0 = tf.reshape(tf.convert_to_tensor(x0, dtype=tf.dtypes.float64), shape=(1, -1)) # row vector, since the NN outputs row vectors\n",
    "    \n",
    "    t = tf.reshape(tf.convert_to_tensor(t, dtype=tf.dtypes.float64), shape=(-1, 1)) # column vector\n",
    "    \n",
    "    N = len(x0)\n",
    "\n",
    "    # Setting up model\n",
    "    model = Sequential()\n",
    "    model.add(Dense(100, activation='sigmoid'))\n",
    "    model.add(Dense(50, activation='sigmoid'))\n",
    "    model.add(Dense(25, activation='sigmoid'))\n",
    "    model.add(Dense(N, activation=\"linear\"))\n",
    "    model.build(t.shape)\n",
    "\n",
    "    eta = 0.01\n",
    "    model.optimizer = optimizers.Adam(eta)\n",
    "    model.zeros = tf.convert_to_tensor(np.zeros((N, len(t))))\n",
    "    \n",
    "    return x0, t, model\n",
    "    \n",
    "def trainMdl(model, x0, t, optimizer, iters):\n",
    "    for i in range(iters):\n",
    "        train(model, optimizer, x0, t)\n",
    "    g_dnn = tf.transpose(tf.exp(-t) @ x0 + model(t) * (1-tf.exp(-t)))\n",
    "    return g_dnn"
   ]
  },
  {
   "cell_type": "code",
   "execution_count": 31,
   "metadata": {},
   "outputs": [],
   "source": [
    "# Setting up data\n",
    "N = 6\n",
    "Q = np.random.rand(N, N)\n",
    "A = (Q.T + Q)/2"
   ]
  },
  {
   "cell_type": "code",
   "execution_count": 33,
   "metadata": {},
   "outputs": [],
   "source": [
    "x0 = np.random.rand(N, 1) * 2 - 1\n",
    "\n",
    "Nt = 50\n",
    "T_n = 10\n",
    "t = np.linspace(0, T_n, Nt)\n",
    "\n",
    "x0, t, model = eigenMdl(x0, t, A)"
   ]
  },
  {
   "cell_type": "code",
   "execution_count": 36,
   "metadata": {},
   "outputs": [],
   "source": [
    "iters = 100\n",
    "g_dnn = trainMdl(model, x0, t, optimizer, iters)"
   ]
  },
  {
   "cell_type": "code",
   "execution_count": 37,
   "metadata": {},
   "outputs": [
    {
     "name": "stdout",
     "output_type": "stream",
     "text": [
      "[0.40823243 0.40827864 0.40819741 0.4082113  0.40829058 0.40827938]\n",
      "2.559 +- 0.585\n"
     ]
    },
    {
     "data": {
      "image/png": "[encoded data removed]",
      "text/plain": [
       "<Figure size 432x288 with 1 Axes>"
      ]
     },
     "metadata": {
      "needs_background": "light"
     },
     "output_type": "display_data"
    }
   ],
   "source": [
    "eig_vec = np.array(g_dnn[:, -1])\n",
    "eig_vec /= np.linalg.norm(eig_vec)\n",
    "print(eig_vec)\n",
    "print(f\"{np.mean(A @ eig_vec / eig_vec):.3f} +- {np.std(A @ eig_vec / eig_vec):.3f}\")\n",
    "\n",
    "for i in range(N):\n",
    "    plt.plot(np.linspace(0, T_n, Nt), g_dnn[i, :])"
   ]
  },
  {
   "cell_type": "code",
   "execution_count": null,
   "metadata": {},
   "outputs": [],
   "source": [
    "iters = 100\n",
    "for i in range(iters):\n",
    "    train(model, sgd, x0, t)\n",
    "    \n",
    "# Output of model\n",
    "g_dnn = tf.transpose(tf.exp(-t) @ x0 + model(t) * (1-tf.exp(-t)))"
   ]
  },
  {
   "cell_type": "code",
   "execution_count": null,
   "metadata": {},
   "outputs": [],
   "source": [
    "# eigenvalues from max to min\n",
    "eigenvalues, v = np.linalg.eig(A)\n",
    "eig_vec_anal = v[:,0]\n",
    "eig_val_anal = eigenvalues[0]\n",
    "print(eig_vec_anal)\n",
    "print(eig_val_anal)"
   ]
  },
  {
   "cell_type": "code",
   "execution_count": null,
   "metadata": {},
   "outputs": [],
   "source": [
    "print(eigenvalues)\n",
    "print(v)"
   ]
  },
  {
   "cell_type": "code",
   "execution_count": null,
   "metadata": {},
   "outputs": [],
   "source": [
    "# eigenvalues from max to min\n",
    "eigenvalues, v = np.linalg.eig(-A)\n",
    "eig_vec_anal = v[:,0]\n",
    "eig_val_anal = eigenvalues[0]\n",
    "print(eig_vec_anal)\n",
    "print(eig_val_anal)"
   ]
  },
  {
   "cell_type": "code",
   "execution_count": null,
   "metadata": {},
   "outputs": [],
   "source": [
    "print(eigenvalues)\n",
    "print(v)"
   ]
  },
  {
   "cell_type": "code",
   "execution_count": null,
   "metadata": {},
   "outputs": [],
   "source": []
  }
 ],
 "metadata": {
  "kernelspec": {
   "display_name": "Python 3",
   "language": "python",
   "name": "python3"
  },
  "language_info": {
   "codemirror_mode": {
    "name": "ipython",
    "version": 3
   },
   "file_extension": ".py",
   "mimetype": "text/x-python",
   "name": "python",
   "nbconvert_exporter": "python",
   "pygments_lexer": "ipython3",
   "version": "3.6.12"
  }
 },
 "nbformat": 4,
 "nbformat_minor": 4
}
