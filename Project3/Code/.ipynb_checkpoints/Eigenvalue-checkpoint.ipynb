{
 "cells": [
  {
   "cell_type": "code",
   "execution_count": 1,
   "metadata": {},
   "outputs": [],
   "source": [
    "import numpy as np\n",
    "import matplotlib.pyplot as plt\n",
    "\n",
    "from eigenSolver import EigenSolver"
   ]
  },
  {
   "cell_type": "code",
   "execution_count": 2,
   "metadata": {},
   "outputs": [],
   "source": [
    "# Setting up data\n",
    "N = 6\n",
    "Q = np.random.rand(N, N)\n",
    "A = (Q.T + Q)/2\n",
    "\n",
    "x0 = np.random.rand(N, 1)\n",
    "\n",
    "T = 10\n",
    "dt = T / 10"
   ]
  },
  {
   "cell_type": "code",
   "execution_count": 3,
   "metadata": {},
   "outputs": [],
   "source": [
    "model = EigenSolver(A, x0, dt, T)"
   ]
  },
  {
   "cell_type": "code",
   "execution_count": 4,
   "metadata": {},
   "outputs": [],
   "source": [
    "t, x_t = model.train(2000)"
   ]
  },
  {
   "cell_type": "code",
   "execution_count": 26,
   "metadata": {},
   "outputs": [
    {
     "name": "stdout",
     "output_type": "stream",
     "text": [
      "Eigenvalue = 2.65214 +- 0.00780\n",
      "Real eigen = 2.652594, diff = -0.00045\n",
      "Eigenvector = [0.36397615 0.41491609 0.34370884 0.45402217 0.45624049 0.40365669]\n",
      "Real eigenvec = [-0.36401019 -0.41590861 -0.34341596 -0.45450393 -0.45686791 -0.40159678]\n"
     ]
    },
    {
     "data": {
      "image/png": "[encoded data removed]",
      "text/plain": [
       "<Figure size 432x288 with 1 Axes>"
      ]
     },
     "metadata": {
      "needs_background": "light"
     },
     "output_type": "display_data"
    }
   ],
   "source": [
    "# Extracting eigenvector and value\n",
    "eig_vec = np.array(x_t[-1, :]) / np.linalg.norm(np.array(x_t[-1, :]))\n",
    "eig_val = np.mean(A @ eig_vec / eig_vec)\n",
    "eig_val_std = np.std(A @ eig_vec / eig_vec)\n",
    "\n",
    "# Analytical eigenvectors and values\n",
    "eigenvalues, v = np.linalg.eig(A)\n",
    "eig_vec_anal = v[:,0]\n",
    "eig_val_anal = eigenvalues[0]\n",
    "\n",
    "print(f\"Eigenvalue = {eig_val:.5f} +- {eig_val_std:.5f}\")\n",
    "print(f\"Real eigen = {eig_val_anal:5f}, diff = {eig_val - eig_val_anal:.5f}\")\n",
    "print(f\"Eigenvector = {eig_vec}\")\n",
    "print(f\"Real eigenvec = {eig_vec_anal}\")\n",
    "\n",
    "for i in range(N):\n",
    "    plt.plot(t, x_t[:, i])"
   ]
  },
  {
   "cell_type": "code",
   "execution_count": 11,
   "metadata": {},
   "outputs": [
    {
     "name": "stdout",
     "output_type": "stream",
     "text": [
      "[-0.36401019 -0.41590861 -0.34341596 -0.45450393 -0.45686791 -0.40159678]\n",
      "2.6525939203592843\n",
      "[ 2.65259392 -0.81732138  0.76967978  0.29419162 -0.14277201 -0.40913102]\n",
      "[[-0.36401019 -0.40615575  0.05729361 -0.1229877   0.82659718  0.02937104]\n",
      " [-0.41590861  0.55174647  0.36266008 -0.15426959  0.01833666  0.60575423]\n",
      " [-0.34341596  0.16535087  0.58235968  0.0991791  -0.07044747 -0.70765982]\n",
      " [-0.45450393  0.18398813 -0.46171272  0.73828579  0.03267917 -0.01618859]\n",
      " [-0.45686791  0.1086347  -0.52466532 -0.63330949 -0.19665602 -0.25385431]\n",
      " [-0.40159678 -0.67647564  0.19390713  0.07135548 -0.52124515  0.25828791]]\n"
     ]
    }
   ],
   "source": [
    "print(eig_vec_anal)\n",
    "print(eig_val_anal)\n",
    "\n",
    "print(eigenvalues)\n",
    "print(v)"
   ]
  },
  {
   "cell_type": "code",
   "execution_count": null,
   "metadata": {},
   "outputs": [],
   "source": []
  }
 ],
 "metadata": {
  "kernelspec": {
   "display_name": "Python 3",
   "language": "python",
   "name": "python3"
  },
  "language_info": {
   "codemirror_mode": {
    "name": "ipython",
    "version": 3
   },
   "file_extension": ".py",
   "mimetype": "text/x-python",
   "name": "python",
   "nbconvert_exporter": "python",
   "pygments_lexer": "ipython3",
   "version": "3.6.12"
  }
 },
 "nbformat": 4,
 "nbformat_minor": 4
}
