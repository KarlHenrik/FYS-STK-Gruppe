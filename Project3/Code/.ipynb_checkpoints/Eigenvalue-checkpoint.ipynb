{
 "cells": [
  {
   "cell_type": "markdown",
   "metadata": {},
   "source": [
    "# The eigenvalue problem"
   ]
  },
  {
   "cell_type": "code",
   "execution_count": 1,
   "metadata": {},
   "outputs": [],
   "source": [
    "import numpy as np\n",
    "import matplotlib.pyplot as plt\n",
    "\n",
    "from eigenSolver import EigenSolver"
   ]
  },
  {
   "cell_type": "markdown",
   "metadata": {},
   "source": [
    "### Random 6x6 example, smallest and larges eigenvalues"
   ]
  },
  {
   "cell_type": "code",
   "execution_count": 2,
   "metadata": {},
   "outputs": [
    {
     "name": "stdout",
     "output_type": "stream",
     "text": [
      "\n",
      " All eigenvalues and eigenvectors:\n",
      " [ 3.00715874  0.88169719 -0.58310978  0.48626061 -0.07207623 -0.03682972]\n",
      "[[ 0.46666549  0.48967138  0.26635646  0.23192391 -0.49101154 -0.42025999]\n",
      " [ 0.35646829 -0.43408394  0.51203498  0.1784236   0.53881553 -0.31648778]\n",
      " [ 0.47905039 -0.10143936 -0.80355115  0.0537594   0.18293372 -0.27959167]\n",
      " [ 0.44835263  0.49775721  0.11170217 -0.42140362  0.40080198  0.44779132]\n",
      " [ 0.19445034 -0.0344575  -0.04151841  0.77360304 -0.02050033  0.60032995]\n",
      " [ 0.43224228 -0.5590649   0.08353927 -0.36802659 -0.52350573  0.29005588]]\n"
     ]
    }
   ],
   "source": [
    "# Setting up data\n",
    "N = 6\n",
    "#Q = np.random.rand(N, N)\n",
    "A = (Q.T + Q)/2\n",
    "print(A)\n",
    "\n",
    "#x0 = np.random.rand(N, 1)\n",
    "print(f\"\\n {x0}\")\n",
    "\n",
    "eigenvalues, v = np.linalg.eig(A)\n",
    "print(\"\\n All eigenvalues and eigenvectors:\")\n",
    "print(f\" {eigenvalues}\")\n",
    "print(v)"
   ]
  },
  {
   "cell_type": "code",
   "execution_count": 3,
   "metadata": {},
   "outputs": [],
   "source": [
    "T = 10\n",
    "dt = T / 10"
   ]
  },
  {
   "cell_type": "code",
   "execution_count": 4,
   "metadata": {},
   "outputs": [],
   "source": [
    "model6 = EigenSolver(A, x0, dt, T)\n",
    "t, x_t = model6.train(2000)"
   ]
  },
  {
   "cell_type": "code",
   "execution_count": 5,
   "metadata": {},
   "outputs": [
    {
     "name": "stdout",
     "output_type": "stream",
     "text": [
      "Eigenvalue = 3.00676 +- 0.00998\n",
      "Real eigen = 3.007159, diff = -0.00040\n",
      "Eigenvector =   [0.46802198 0.35779386 0.47704012 0.44922481 0.19418335 0.43111668]\n",
      "Real eigenvec = [0.46666549 0.35646829 0.47905039 0.44835263 0.19445034 0.43224228]\n"
     ]
    },
    {
     "data": {
      "image/png": "[encoded data removed]",
      "text/plain": [
       "<Figure size 432x288 with 1 Axes>"
      ]
     },
     "metadata": {
      "needs_background": "light"
     },
     "output_type": "display_data"
    }
   ],
   "source": [
    "model6.evaluate()"
   ]
  },
  {
   "cell_type": "code",
   "execution_count": null,
   "metadata": {},
   "outputs": [],
   "source": [
    "model6small = EigenSolver(-A, x0, dt, T)\n",
    "t, x_t = model6small.train(2000)"
   ]
  },
  {
   "cell_type": "code",
   "execution_count": null,
   "metadata": {},
   "outputs": [],
   "source": [
    "model6small.evaluate(-1)"
   ]
  },
  {
   "cell_type": "code",
   "execution_count": null,
   "metadata": {},
   "outputs": [],
   "source": []
  }
 ],
 "metadata": {
  "kernelspec": {
   "display_name": "Python 3",
   "language": "python",
   "name": "python3"
  },
  "language_info": {
   "codemirror_mode": {
    "name": "ipython",
    "version": 3
   },
   "file_extension": ".py",
   "mimetype": "text/x-python",
   "name": "python",
   "nbconvert_exporter": "python",
   "pygments_lexer": "ipython3",
   "version": "3.6.12"
  }
 },
 "nbformat": 4,
 "nbformat_minor": 4
}
