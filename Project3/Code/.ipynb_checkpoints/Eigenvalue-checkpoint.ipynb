{
 "cells": [
  {
   "cell_type": "markdown",
   "metadata": {},
   "source": [
    "# The eigenvalue problem"
   ]
  },
  {
   "cell_type": "code",
   "execution_count": null,
   "metadata": {},
   "outputs": [],
   "source": [
    "import numpy as np\n",
    "import matplotlib.pyplot as plt\n",
    "\n",
    "from eigenSolver import EigenSolver"
   ]
  },
  {
   "cell_type": "markdown",
   "metadata": {},
   "source": [
    "## Random 6x6 example, smallest and larges eigenvalues\n",
    "\n",
    "7 min first\n",
    "14 min second"
   ]
  },
  {
   "cell_type": "code",
   "execution_count": null,
   "metadata": {},
   "outputs": [],
   "source": [
    "np.random.seed(21)\n",
    "# Setting up data\n",
    "N = 6\n",
    "Q = np.random.rand(N, N)\n",
    "A = (Q.T + Q)/2\n",
    "x0 = np.random.rand(N, 1)\n",
    "\n",
    "T = 10\n",
    "dt = T / 10\n",
    "\n",
    "print(f\"A = \\n{A}\")\n",
    "print(f\"\\nx0 = {x0[:, 0].T}\")\n",
    "\n",
    "eigenvalues, v = np.linalg.eig(A)\n",
    "print(\"\\n All eigenvalues and eigenvectors:\")\n",
    "print(f\" {eigenvalues}\")\n",
    "print(v)"
   ]
  },
  {
   "cell_type": "code",
   "execution_count": null,
   "metadata": {},
   "outputs": [],
   "source": [
    "model6 = EigenSolver(A, x0, dt, T)\n",
    "model6.train(2000)"
   ]
  },
  {
   "cell_type": "code",
   "execution_count": null,
   "metadata": {},
   "outputs": [],
   "source": [
    "model6.evaluate()"
   ]
  },
  {
   "cell_type": "code",
   "execution_count": null,
   "metadata": {},
   "outputs": [],
   "source": [
    "model6small = EigenSolver(-A, x0, dt, T)\n",
    "model6small.train(2000)"
   ]
  },
  {
   "cell_type": "code",
   "execution_count": null,
   "metadata": {},
   "outputs": [],
   "source": [
    "model6small.evaluate(-1)"
   ]
  },
  {
   "cell_type": "markdown",
   "metadata": {},
   "source": [
    "## Random 3x3 example, smallest and larges eigenvalues"
   ]
  },
  {
   "cell_type": "markdown",
   "metadata": {},
   "source": [
    "7 min first\n",
    "14 min second"
   ]
  },
  {
   "cell_type": "code",
   "execution_count": null,
   "metadata": {},
   "outputs": [],
   "source": [
    "np.random.seed(0)\n",
    "# Setting up data\n",
    "N = 3\n",
    "Q = np.random.rand(N, N)\n",
    "A = (Q.T + Q)/2\n",
    "x0 = np.random.rand(N, 1)\n",
    "\n",
    "T = 10\n",
    "dt = T / 10\n",
    "\n",
    "print(f\"A = \\n{A}\")\n",
    "print(f\"\\nx0 = {x0[:, 0].T}\")\n",
    "\n",
    "eigenvalues, v = np.linalg.eig(A)\n",
    "print(\"\\n All eigenvalues and eigenvectors:\")\n",
    "print(f\" {eigenvalues}\")\n",
    "print(v)"
   ]
  },
  {
   "cell_type": "code",
   "execution_count": null,
   "metadata": {},
   "outputs": [],
   "source": [
    "T = 10\n",
    "dt = T / 10"
   ]
  },
  {
   "cell_type": "code",
   "execution_count": null,
   "metadata": {},
   "outputs": [],
   "source": [
    "model3 = EigenSolver(A, x0, dt, T)\n",
    "model3.train(2000)"
   ]
  },
  {
   "cell_type": "code",
   "execution_count": null,
   "metadata": {},
   "outputs": [],
   "source": [
    "model3.evaluate()"
   ]
  },
  {
   "cell_type": "code",
   "execution_count": null,
   "metadata": {},
   "outputs": [],
   "source": [
    "model3small = EigenSolver(-A, x0, dt, T)\n",
    "model3small.train(2000)"
   ]
  },
  {
   "cell_type": "code",
   "execution_count": null,
   "metadata": {},
   "outputs": [],
   "source": [
    "model3small.evaluate(-1)"
   ]
  },
  {
   "cell_type": "markdown",
   "metadata": {},
   "source": [
    "## Random 9x9 example, smallest and larges eigenvalues"
   ]
  },
  {
   "cell_type": "markdown",
   "metadata": {},
   "source": [
    "7 min first\n",
    "14 min second"
   ]
  },
  {
   "cell_type": "code",
   "execution_count": null,
   "metadata": {},
   "outputs": [],
   "source": [
    "np.random.seed(0)\n",
    "# Setting up data\n",
    "N = 9\n",
    "Q = np.random.rand(N, N)\n",
    "A = (Q.T + Q)/2\n",
    "x0 = np.random.rand(N, 1)\n",
    "\n",
    "T = 10\n",
    "dt = T / 10\n",
    "\n",
    "print(f\"A = \\n{A}\")\n",
    "print(f\"\\nx0 = {x0[:, 0].T}\")\n",
    "\n",
    "eigenvalues, v = np.linalg.eig(A)\n",
    "print(\"\\n All eigenvalues and eigenvectors:\")\n",
    "print(f\" {eigenvalues}\")\n",
    "print(v)"
   ]
  },
  {
   "cell_type": "code",
   "execution_count": null,
   "metadata": {},
   "outputs": [],
   "source": [
    "T = 10\n",
    "dt = T / 10"
   ]
  },
  {
   "cell_type": "code",
   "execution_count": null,
   "metadata": {},
   "outputs": [],
   "source": [
    "model9 = EigenSolver(A, x0, dt, T)\n",
    "model9.train(2000)"
   ]
  },
  {
   "cell_type": "code",
   "execution_count": null,
   "metadata": {},
   "outputs": [],
   "source": [
    "model9.evaluate()"
   ]
  },
  {
   "cell_type": "code",
   "execution_count": null,
   "metadata": {},
   "outputs": [],
   "source": [
    "model9small = EigenSolver(-A, x0, dt, T)\n",
    "model9small.train(2000)"
   ]
  },
  {
   "cell_type": "code",
   "execution_count": null,
   "metadata": {},
   "outputs": [],
   "source": [
    "model9small.evaluate(-1)"
   ]
  },
  {
   "cell_type": "markdown",
   "metadata": {},
   "source": [
    "## More 6x6 example, different number of time steps\n",
    "\n",
    "7 min first\n",
    "14 min second"
   ]
  },
  {
   "cell_type": "code",
   "execution_count": null,
   "metadata": {},
   "outputs": [],
   "source": [
    "np.random.seed(21)\n",
    "# Setting up data\n",
    "N = 6\n",
    "Q = np.random.rand(N, N)\n",
    "A = (Q.T + Q)/2\n",
    "x0 = np.random.rand(N, 1)\n",
    "\n",
    "print(f\"A = \\n{A}\")\n",
    "print(f\"\\nx0 = {x0[:, 0].T}\")\n",
    "\n",
    "eigenvalues, v = np.linalg.eig(A)\n",
    "print(\"\\n All eigenvalues and eigenvectors:\")\n",
    "print(f\" {eigenvalues}\")\n",
    "print(v)"
   ]
  },
  {
   "cell_type": "code",
   "execution_count": null,
   "metadata": {},
   "outputs": [],
   "source": [
    "T = 10\n",
    "dt = T / 5\n",
    "model6_5 = EigenSolver(A, x0, dt, T)\n",
    "model6_5.train(2000)"
   ]
  },
  {
   "cell_type": "code",
   "execution_count": null,
   "metadata": {},
   "outputs": [],
   "source": [
    "model6_5.evaluate()"
   ]
  },
  {
   "cell_type": "code",
   "execution_count": null,
   "metadata": {},
   "outputs": [],
   "source": [
    "T = 10\n",
    "dt = T / 50\n",
    "model6_50 = EigenSolver(A, x0, dt, T)\n",
    "model6_50.train(2000)"
   ]
  },
  {
   "cell_type": "code",
   "execution_count": null,
   "metadata": {},
   "outputs": [],
   "source": [
    "model6_50.evaluate()"
   ]
  },
  {
   "cell_type": "code",
   "execution_count": null,
   "metadata": {},
   "outputs": [],
   "source": [
    "T = 10\n",
    "dt = T / 100\n",
    "model6_100 = EigenSolver(A, x0, dt, T)\n",
    "model6_100.train(2000)"
   ]
  },
  {
   "cell_type": "code",
   "execution_count": null,
   "metadata": {},
   "outputs": [],
   "source": [
    "model6_100.evaluate()"
   ]
  },
  {
   "cell_type": "markdown",
   "metadata": {},
   "source": [
    "## Even more 6x6, to see how often it fails"
   ]
  },
  {
   "cell_type": "code",
   "execution_count": null,
   "metadata": {},
   "outputs": [],
   "source": [
    "for seed in [2020, 2021, 2022, 2023]:\n",
    "    np.random.seed(seed)\n",
    "    # Setting up data\n",
    "    N = 6\n",
    "    Q = np.random.rand(N, N)\n",
    "    A = (Q.T + Q)/2\n",
    "    x0 = np.random.rand(N, 1)\n",
    "\n",
    "    T = 10\n",
    "    dt = T / 10\n",
    "\n",
    "    print(f\"A = \\n{A}\")\n",
    "    print(f\"\\nx0 = {x0[:, 0].T}\")\n",
    "\n",
    "    eigenvalues, v = np.linalg.eig(A)\n",
    "    print(\"\\n All eigenvalues and eigenvectors:\")\n",
    "    print(f\" {eigenvalues}\")\n",
    "    print(v)\n",
    "\n",
    "    model = EigenSolver(A, x0, dt, T)\n",
    "    model.train(2000)\n",
    "\n",
    "    model.evaluate()"
   ]
  }
 ],
 "metadata": {
  "kernelspec": {
   "display_name": "Python 3",
   "language": "python",
   "name": "python3"
  },
  "language_info": {
   "codemirror_mode": {
    "name": "ipython",
    "version": 3
   },
   "file_extension": ".py",
   "mimetype": "text/x-python",
   "name": "python",
   "nbconvert_exporter": "python",
   "pygments_lexer": "ipython3",
   "version": "3.6.12"
  }
 },
 "nbformat": 4,
 "nbformat_minor": 4
}
