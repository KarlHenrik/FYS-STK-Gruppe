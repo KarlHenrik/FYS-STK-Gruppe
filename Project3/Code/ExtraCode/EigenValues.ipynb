{
 "cells": [
  {
   "cell_type": "code",
   "execution_count": 3,
   "metadata": {},
   "outputs": [
    {
     "name": "stdout",
     "output_type": "stream",
     "text": [
      "[-0.89864818 -0.17379462 -0.23178146 -0.17126443 -0.14984374 -0.23815873]\n",
      "3.45773046233004\n",
      "[ 3.45773046  0.47909152 -1.86961977 -1.61357221 -1.07654667 -0.88050535]\n",
      "[[-0.89864818 -0.40223386 -0.03678202 -0.11215381 -0.12474307  0.03386944]\n",
      " [-0.17379462  0.16403305  0.08936799 -0.17406979  0.66993828 -0.67511804]\n",
      " [-0.23178146  0.44001724 -0.71343412  0.27813878  0.28926493  0.28746923]\n",
      " [-0.17126443  0.29471268  0.10269351  0.6450797  -0.46104649 -0.49454554]\n",
      " [-0.14984374  0.63400249  0.01236688 -0.64408398 -0.39913931 -0.03575455]\n",
      " [-0.23815873  0.35898633  0.68627495  0.22088018  0.28296928  0.46322378]]\n"
     ]
    }
   ],
   "source": [
    "# Setting up data\n",
    "Q = np.random.rand(6,6)\n",
    "A = (Q.T + Q)/2 - np.eye(6)\n",
    "A[0,0] += 3\n",
    "\n",
    "# eigenvalues from max to min\n",
    "eigenvalues, v = np.linalg.eig(A)\n",
    "eig_vec_anal = v[:,0]\n",
    "eig_val_anal = eigenvalues[0]\n",
    "print(eig_vec_anal)\n",
    "print(eig_val_anal)\n",
    "print(eigenvalues)\n",
    "print(v)"
   ]
  },
  {
   "cell_type": "code",
   "execution_count": 4,
   "metadata": {},
   "outputs": [],
   "source": [
    "import tensorflow as tf\n",
    "import numpy as np\n",
    "import matplotlib.pyplot as plt\n",
    "from matplotlib import cm\n",
    "from mpl_toolkits.mplot3d import axes3d\n",
    "from tensorflow.keras.models import Sequential      #This allows appending layers to existing models\n",
    "from tensorflow.keras.layers import Dense           #This allows defining the characteristics of a particular layer\n",
    "from tensorflow.keras import optimizers             #This allows using whichever optimiser we want (sgd,adam,RMSprop)\n",
    "from tensorflow.keras.regularizers import l2\n",
    "tf.keras.backend.set_floatx('float64')\n",
    "\n",
    "def loss(model, x, t):\n",
    "    with tf.GradientTape() as tape_t:\n",
    "        tape_t.watch([t])\n",
    "        x_net = x + t / T_n * model(tf.concat([x,t], 1))\n",
    "    dx_dt = tape_t.gradient(x_net, t)\n",
    "    #rhs1 = -x + (tf.transpose(x) @ x @ A + (1 - tf.transpose(x) @ A @ x) @ np.eye(6)) @ x\n",
    "    rhs = -x_net\n",
    "    delta = tf.zeros((0, 1), dtype=tf.dtypes.float64)\n",
    "    for i in range(Nt):\n",
    "        x_i = x_net[6 * i : 6* i + 6]\n",
    "        f_i = ( (tf.transpose(x_i) @ x_i)[0] * A + (1 - (tf.transpose(x_i) @ A @ x_i))[0] * tf.eye(6, dtype=tf.dtypes.float64) ) @ x_i\n",
    "        delta = tf.concat([delta, f_i], 0)\n",
    "    rhs += delta\n",
    "    \n",
    "    return tf.losses.mean_squared_error(zeros, dx_dt - rhs)\n",
    "\n",
    "def train(model, optimizer, x, t):\n",
    "    with tf.GradientTape() as tape:\n",
    "        current_loss = loss(model, x, t)\n",
    "        \n",
    "    grads = tape.gradient(current_loss, model.trainable_variables)\n",
    "    optimizer.apply_gradients(zip(grads, model.trainable_variables))\n",
    "\n",
    "Nt = 10\n",
    "Nx = 6\n",
    "T_n = 1\n",
    "x_np = np.random.rand(6,1)\n",
    "t_np = np.linspace(0, T_n, Nt)\n",
    "\n",
    "X, T = np.meshgrid(x_np, t_np)\n",
    "\n",
    "x = X.ravel()\n",
    "t = T.ravel()\n",
    "\n",
    "zeros = tf.reshape(tf.convert_to_tensor(np.zeros(x.shape)), shape=(-1,1))\n",
    "x = tf.reshape(tf.convert_to_tensor(x, dtype=tf.dtypes.float64), shape=(-1,1))\n",
    "t = tf.reshape(tf.convert_to_tensor(t), shape=(-1,1))\n",
    "\n",
    "# Setting up model\n",
    "model = Sequential()\n",
    "model.add(Dense(50, activation='sigmoid', kernel_regularizer=l2(0.01), bias_regularizer=l2(0.01)))\n",
    "model.add(Dense(20, activation='sigmoid', kernel_regularizer=l2(0.01), bias_regularizer=l2(0.01)))\n",
    "model.add(Dense(1, activation=\"linear\"))\n",
    "model.build(tf.concat([x,t], 1).shape)\n",
    "\n",
    "eta = 0.00001\n",
    "sgd = optimizers.SGD(lr=eta)\n",
    "\n",
    "# Training model\n",
    "num_iter = 100\n",
    "for i in range(num_iter):\n",
    "    train(model, sgd, x, t)\n",
    "    \n",
    "# Output of model\n",
    "g_dnn = x + t * model(tf.concat([x,t], 1))\n",
    "G_dnn = np.array(g_dnn).reshape((Nt, Nx))"
   ]
  },
  {
   "cell_type": "code",
   "execution_count": 179,
   "metadata": {},
   "outputs": [],
   "source": [
    "for i in range(100):\n",
    "    train(model, sgd, x, t)\n",
    "    \n",
    "# Output of model\n",
    "g_dnn = x + t * model(tf.concat([x,t], 1))\n",
    "G_dnn = np.array(g_dnn).reshape((Nt, Nx))"
   ]
  },
  {
   "cell_type": "code",
   "execution_count": 82,
   "metadata": {},
   "outputs": [
    {
     "name": "stdout",
     "output_type": "stream",
     "text": [
      "[-12.63129355 -13.12418291 -12.88608573 -13.13447108 -13.01748744\n",
      " -13.19709608]\n"
     ]
    }
   ],
   "source": [
    "print(np.array(G_dnn[-1]))"
   ]
  },
  {
   "cell_type": "code",
   "execution_count": 182,
   "metadata": {},
   "outputs": [
    {
     "name": "stdout",
     "output_type": "stream",
     "text": [
      "[ 0.27316452  0.47477495 -0.15848149 -0.62384746 -0.19631829 -0.49711868]\n",
      "0.6954586716361743\n",
      "[ 1.54784572 -1.20928163  1.44289513  0.03374626  2.50341602 -0.14586946]\n"
     ]
    }
   ],
   "source": [
    "eig_vec = np.array(G_dnn[-1])\n",
    "eig_vec /= np.linalg.norm(eig_vec)\n",
    "print(eig_vec)\n",
    "print(np.mean(A @ eig_vec / eig_vec))\n",
    "print(A @ eig_vec / eig_vec)"
   ]
  },
  {
   "cell_type": "code",
   "execution_count": 167,
   "metadata": {},
   "outputs": [
    {
     "name": "stdout",
     "output_type": "stream",
     "text": [
      "[0.83411571 0.26074626 0.29002581 0.23546724 0.23244084 0.20657647]\n",
      "3.10068498098289\n"
     ]
    }
   ],
   "source": [
    "# eigenvalues from max to min\n",
    "eigenvalues, v = np.linalg.eig(A)\n",
    "eig_vec_anal = v[:,0]\n",
    "eig_val_anal = eigenvalues[0]\n",
    "print(eig_vec_anal)\n",
    "print(eig_val_anal)"
   ]
  },
  {
   "cell_type": "code",
   "execution_count": 168,
   "metadata": {},
   "outputs": [
    {
     "name": "stdout",
     "output_type": "stream",
     "text": [
      "[ 3.10068498  0.98605943 -0.41301284 -1.17878204 -1.08305551 -0.73561267]\n",
      "[[ 0.83411571  0.53670782  0.09931789  0.05948915 -0.04724394  0.0236794 ]\n",
      " [ 0.26074626 -0.22551172 -0.64440465 -0.07367088  0.66411355  0.13937103]\n",
      " [ 0.29002581 -0.37310274 -0.36614215 -0.48022488 -0.60287311 -0.22033468]\n",
      " [ 0.23546724 -0.39054008  0.33876554  0.17923205  0.28140774 -0.75230119]\n",
      " [ 0.23244084 -0.43136612  0.56329662 -0.38849853  0.15732253  0.51663329]\n",
      " [ 0.20657647 -0.42811826 -0.09355937  0.75984371 -0.29887206  0.31400731]]\n"
     ]
    }
   ],
   "source": [
    "print(eigenvalues)\n",
    "print(v)"
   ]
  },
  {
   "cell_type": "code",
   "execution_count": null,
   "metadata": {},
   "outputs": [],
   "source": []
  },
  {
   "cell_type": "code",
   "execution_count": null,
   "metadata": {},
   "outputs": [],
   "source": []
  },
  {
   "cell_type": "code",
   "execution_count": null,
   "metadata": {},
   "outputs": [],
   "source": []
  },
  {
   "cell_type": "code",
   "execution_count": null,
   "metadata": {},
   "outputs": [],
   "source": []
  },
  {
   "cell_type": "code",
   "execution_count": null,
   "metadata": {},
   "outputs": [],
   "source": []
  },
  {
   "cell_type": "code",
   "execution_count": 5,
   "metadata": {},
   "outputs": [
    {
     "name": "stdout",
     "output_type": "stream",
     "text": [
      "[[0.6969513  0.67451162 0.79708163 0.89400824 0.43915108 0.54688166]\n",
      " [0.67451162 0.31661069 0.73883026 0.71930656 0.80375697 0.46555442]\n",
      " [0.79708163 0.73883026 0.58208262 0.78095336 0.53718359 0.61585948]\n",
      " [0.89400824 0.71930656 0.78095336 0.24548289 0.37394766 0.794089  ]\n",
      " [0.43915108 0.80375697 0.53718359 0.37394766 0.05636538 0.24077436]\n",
      " [0.54688166 0.46555442 0.61585948 0.794089   0.24077436 0.25773921]]\n"
     ]
    }
   ],
   "source": [
    "# symmetric matrix\n",
    "Q = np.random.rand(6,6)\n",
    "A = (Q.T + Q)/2\n",
    "print(A)"
   ]
  },
  {
   "cell_type": "code",
   "execution_count": 6,
   "metadata": {},
   "outputs": [
    {
     "name": "stdout",
     "output_type": "stream",
     "text": [
      "[ 3.5952731   0.18753086 -0.71240732 -0.59003508 -0.08415091 -0.24097855]\n"
     ]
    }
   ],
   "source": [
    "# eigenvalues from max to min\n",
    "eigenvalues, v = np.linalg.eig(A)\n",
    "print(eigenvalues)"
   ]
  },
  {
   "cell_type": "code",
   "execution_count": 7,
   "metadata": {},
   "outputs": [],
   "source": [
    "def eigenvecsolver(xin, A, nits, dt): # xin is inputvector\n",
    "    x = np.zeros((len(xin),nits))\n",
    "    x[:,0] = xin\n",
    "    for i in range(nits-1):\n",
    "        x[:,i+1] = x[:,i] - x[:,i] * dt + (xin.T @ xin * A + (1 - xin.T @ A * xin) * np.eye(len(A))) @ xin * dt\n",
    "    return x"
   ]
  },
  {
   "cell_type": "code",
   "execution_count": 8,
   "metadata": {},
   "outputs": [],
   "source": [
    "xtry = np.random.rand(6)\n",
    "nits = 100000\n",
    "dt = 0.0001\n",
    "x = eigenvecsolver(xtry,A,nits,dt)\n",
    "t = np.linspace(0,nits,nits)"
   ]
  },
  {
   "cell_type": "code",
   "execution_count": 10,
   "metadata": {},
   "outputs": [
    {
     "name": "stdout",
     "output_type": "stream",
     "text": [
      "[7.81356128 8.89846428 9.92111161 7.04174324 4.76513138 6.44459996]\n",
      "3.702346276096225\n",
      "0.4990276817785955\n"
     ]
    }
   ],
   "source": [
    "svar = x[:, -1]\n",
    "print(svar)\n",
    "print(np.mean(A @ svar / svar))\n",
    "print(np.std(A @ svar / svar))"
   ]
  },
  {
   "cell_type": "code",
   "execution_count": null,
   "metadata": {},
   "outputs": [],
   "source": [
    "for i in range(len(x)):\n",
    "    plt.plot(t,x[i,:])"
   ]
  },
  {
   "cell_type": "code",
   "execution_count": null,
   "metadata": {},
   "outputs": [],
   "source": []
  }
 ],
 "metadata": {
  "kernelspec": {
   "display_name": "Python 3",
   "language": "python",
   "name": "python3"
  },
  "language_info": {
   "codemirror_mode": {
    "name": "ipython",
    "version": 3
   },
   "file_extension": ".py",
   "mimetype": "text/x-python",
   "name": "python",
   "nbconvert_exporter": "python",
   "pygments_lexer": "ipython3",
   "version": "3.6.12"
  }
 },
 "nbformat": 4,
 "nbformat_minor": 4
}
