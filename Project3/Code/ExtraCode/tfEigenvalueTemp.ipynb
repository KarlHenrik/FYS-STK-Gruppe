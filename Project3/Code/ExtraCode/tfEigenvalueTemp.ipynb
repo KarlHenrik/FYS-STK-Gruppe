{
 "cells": [
  {
   "cell_type": "code",
   "execution_count": 1,
   "metadata": {},
   "outputs": [],
   "source": [
    "import tensorflow as tf\n",
    "import numpy as np\n",
    "import matplotlib.pyplot as plt\n",
    "from matplotlib import cm\n",
    "from mpl_toolkits.mplot3d import axes3d\n",
    "from tensorflow.keras.models import Sequential      #This allows appending layers to existing models\n",
    "from tensorflow.keras.layers import Dense           #This allows defining the characteristics of a particular layer\n",
    "from tensorflow.keras import optimizers             #This allows using whichever optimiser we want (sgd,adam,RMSprop)\n",
    "from tensorflow.keras.regularizers import l2\n",
    "tf.keras.backend.set_floatx('float64')"
   ]
  },
  {
   "cell_type": "code",
   "execution_count": 2,
   "metadata": {},
   "outputs": [],
   "source": [
    "def loss(model, x0, t):\n",
    "    with tf.GradientTape() as tape_t:\n",
    "        tape_t.watch([t])\n",
    "        x_net = tf.exp(-t) @ x0 + model(t) * (1-tf.exp(-t))\n",
    "    dx_dt = tape_t.batch_jacobian(x_net, t)[:, :, 0] # This takes the gradient of each element of x for each time step\n",
    "    \n",
    "    dx_dt = tf.transpose(dx_dt) # We need to transpose, as x_net is a collection of row vectors,\n",
    "    x_net = tf.transpose(x_net) # but we need a collection of column vectors for the matrix multiplications\n",
    "    \n",
    "    Ax = A @ x_net\n",
    "    xTx = tf.einsum(\"ij,ji->i\", tf.transpose(x_net), x_net)\n",
    "    xTAx = tf.einsum(\"ij,ji->i\", tf.transpose(x_net), Ax)\n",
    "    fx = xTx * Ax + (1 - xTAx) * x_net\n",
    "    \n",
    "    return tf.losses.mean_squared_error(zeros, dx_dt - fx + x_net)\n",
    "\n",
    "def train(model, optimizer, x0, t):\n",
    "    with tf.GradientTape() as tape:\n",
    "        current_loss = loss(model, x0, t)\n",
    "\n",
    "    grads = tape.gradient(current_loss, model.trainable_variables)\n",
    "    optimizer.apply_gradients(zip(grads, model.trainable_variables))\n",
    "\n",
    "N = 6\n",
    "x0 = np.random.rand(N, 1)\n",
    "x0 /= np.linalg.norm(x0) # normalize\n",
    "x0 = tf.reshape(tf.convert_to_tensor(x0, dtype=tf.dtypes.float64), shape=(1, -1)) # row vector, since the NN outputs row vectors\n",
    "\n",
    "Nt = 5\n",
    "T_n = 10\n",
    "t = np.linspace(0, T_n, Nt)\n",
    "t = tf.reshape(tf.convert_to_tensor(t, dtype=tf.dtypes.float64), shape=(-1, 1)) # column vector\n",
    "\n",
    "zeros = tf.convert_to_tensor(np.zeros((N, Nt)))\n",
    "\n",
    "# Setting up model\n",
    "model = Sequential()\n",
    "model.add(Dense(100, activation='sigmoid'))\n",
    "model.add(Dense(50, activation='sigmoid'))\n",
    "model.add(Dense(25, activation='sigmoid'))\n",
    "model.add(Dense(N, activation=\"linear\"))\n",
    "model.build(t.shape)\n",
    "\n",
    "eta = 0.01\n",
    "sgd = optimizers.Adam(eta)\n",
    "#train(model, sgd, x0, t)\n",
    "g_dnn = tf.transpose(tf.exp(-t) @ x0 + model(t) * (1-tf.exp(-t)))"
   ]
  },
  {
   "cell_type": "code",
   "execution_count": 25,
   "metadata": {},
   "outputs": [],
   "source": [
    "# Setting up data\n",
    "N = 3\n",
    "Q = np.random.rand(N, N)\n",
    "A = (Q.T + Q)/2# Setting up data\n",
    "N = 6\n",
    "Q = np.random.rand(N, N)\n",
    "A = (Q.T + Q)/2"
   ]
  },
  {
   "cell_type": "code",
   "execution_count": 14,
   "metadata": {},
   "outputs": [
    {
     "name": "stdout",
     "output_type": "stream",
     "text": [
      "6\n"
     ]
    }
   ],
   "source": [
    "print(A.shape[0])"
   ]
  },
  {
   "cell_type": "code",
   "execution_count": 5,
   "metadata": {},
   "outputs": [],
   "source": [
    "iters = 2000\n",
    "for i in range(iters):\n",
    "    train(model, sgd, x0, t)\n",
    "    \n",
    "# Output of model\n",
    "g_dnn = tf.transpose(tf.exp(-t) @ x0 + model(t) * (1-tf.exp(-t)))"
   ]
  },
  {
   "cell_type": "code",
   "execution_count": 39,
   "metadata": {},
   "outputs": [
    {
     "name": "stdout",
     "output_type": "stream",
     "text": [
      "[0.43456945 0.36111801 0.43200626 0.45934883 0.33124374 0.41640124]\n",
      "3.637 +- 0.6250\n"
     ]
    },
    {
     "data": {
      "image/png": "[encoded data removed]",
      "text/plain": [
       "<Figure size 432x288 with 1 Axes>"
      ]
     },
     "metadata": {
      "needs_background": "light"
     },
     "output_type": "display_data"
    }
   ],
   "source": [
    "eig_vec = np.array(g_dnn[:, -1])\n",
    "eig_vec /= np.linalg.norm(eig_vec)\n",
    "print(eig_vec)\n",
    "print(f\"{np.mean(A @ eig_vec / eig_vec):.3f} +- {np.std(A @ eig_vec / eig_vec):.4f}\")\n",
    "\n",
    "for i in range(N):\n",
    "    plt.plot(np.linspace(0, T_n, Nt), g_dnn[i, :])\n",
    "plt.gca().set_prop_cycle(None)\n",
    "for i in range(N):\n",
    "    plt.plot([10.2], -eig_vec_anal[i], marker=\".\", markersize=9)"
   ]
  },
  {
   "cell_type": "code",
   "execution_count": 26,
   "metadata": {},
   "outputs": [
    {
     "data": {
      "text/plain": [
       "0.7624895681947286"
      ]
     },
     "execution_count": 26,
     "metadata": {},
     "output_type": "execute_result"
    }
   ],
   "source": [
    "np.mean(A @ eig_vec / eig_vec) - eig_val_anal"
   ]
  },
  {
   "cell_type": "code",
   "execution_count": 10,
   "metadata": {},
   "outputs": [
    {
     "name": "stdout",
     "output_type": "stream",
     "text": [
      "[-0.43458998 -0.36072276 -0.43219335 -0.45928745 -0.33118098 -0.41664583]\n",
      "2.8745930693848774\n",
      "[ 2.87459307 -0.41194608  0.70563454  0.0708924   0.4060583   0.26913589]\n",
      "[[-0.43458998 -0.61633671 -0.16254948  0.4097195  -0.41701094  0.25113756]\n",
      " [-0.36072276 -0.06223108  0.19778939 -0.70007004 -0.48705208 -0.31554391]\n",
      " [-0.43219335  0.50941512 -0.68967269 -0.12538253 -0.00654584  0.24958585]\n",
      " [-0.45928745  0.35750758  0.67576233  0.14809301  0.08463776  0.41891949]\n",
      " [-0.33118098  0.23810593  0.01568939  0.49347616  0.00946293 -0.76796504]\n",
      " [-0.41664583 -0.41502588 -0.04367737 -0.24669989  0.762618   -0.0990203 ]]\n"
     ]
    }
   ],
   "source": [
    "# eigenvalues from max to min\n",
    "eigenvalues, v = np.linalg.eig(A)\n",
    "eig_vec_anal = v[:,0]\n",
    "eig_val_anal = eigenvalues[0]\n",
    "print(eig_vec_anal)\n",
    "print(eig_val_anal)\n",
    "\n",
    "print(eigenvalues)\n",
    "print(v)"
   ]
  },
  {
   "cell_type": "code",
   "execution_count": null,
   "metadata": {},
   "outputs": [],
   "source": [
    "x0 = np.random.rand(N, 1) * 2 - 1\n",
    "\n",
    "Nt = 50\n",
    "T_n = 10\n",
    "t = np.linspace(0, T_n, Nt)\n",
    "\n",
    "x0, t, model = eigenMdl(x0, t, A)"
   ]
  },
  {
   "cell_type": "code",
   "execution_count": null,
   "metadata": {},
   "outputs": [],
   "source": [
    "iters = 100\n",
    "g_dnn = trainMdl(model, x0, t, optimizer, iters)"
   ]
  }
 ],
 "metadata": {
  "kernelspec": {
   "display_name": "Python 3",
   "language": "python",
   "name": "python3"
  },
  "language_info": {
   "codemirror_mode": {
    "name": "ipython",
    "version": 3
   },
   "file_extension": ".py",
   "mimetype": "text/x-python",
   "name": "python",
   "nbconvert_exporter": "python",
   "pygments_lexer": "ipython3",
   "version": "3.6.12"
  }
 },
 "nbformat": 4,
 "nbformat_minor": 4
}
