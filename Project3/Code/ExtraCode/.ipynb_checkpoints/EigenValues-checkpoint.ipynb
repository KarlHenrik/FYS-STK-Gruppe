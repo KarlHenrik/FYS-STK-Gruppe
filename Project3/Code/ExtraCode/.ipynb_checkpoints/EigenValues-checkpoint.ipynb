{
 "cells": [
  {
   "cell_type": "code",
   "execution_count": 29,
   "metadata": {},
   "outputs": [],
   "source": [
    "import tensorflow as tf\n",
    "import numpy as np\n",
    "import matplotlib.pyplot as plt\n",
    "from matplotlib import cm\n",
    "from mpl_toolkits.mplot3d import axes3d\n",
    "from tensorflow.keras.models import Sequential      #This allows appending layers to existing models\n",
    "from tensorflow.keras.layers import Dense           #This allows defining the characteristics of a particular layer\n",
    "from tensorflow.keras import optimizers             #This allows using whichever optimiser we want (sgd,adam,RMSprop)\n",
    "tf.keras.backend.set_floatx('float64')\n",
    "\n",
    "def loss(model, x, t):\n",
    "    with tf.GradientTape() as tape_t:\n",
    "        tape_t.watch([t])\n",
    "        x_net = model(tf.concat([x,t], 1))\n",
    "    dx_dt = tape_t.gradient(x_net, t)\n",
    "    #rhs1 = -x + (tf.transpose(x) @ x @ A + (1 - tf.transpose(x) @ A @ x) @ np.eye(6)) @ x\n",
    "    rhs = -x_net\n",
    "    for i in range(Nt):\n",
    "        x_i = x_net[6 * i : 6* i + 6]\n",
    "        f_i = ( (tf.transpose(x_i) @ x_i)[0] * A + (1 - (tf.transpose(x_i) @ A @ x_i))[0] * np.eye(6) ) @ x_i\n",
    "        z1 = tf.zeros((6 * i, 1), dtype=tf.dtypes.float64)\n",
    "        z2 = tf.zeros((Nt * 6 - 6 * i - 6, 1), dtype=tf.dtypes.float64)\n",
    "        delta = tf.concat([z1, f_i, z2], 0)\n",
    "        rhs += delta\n",
    "\n",
    "    return tf.losses.mean_squared_error(zeros, dx_dt - rhs)\n",
    "\n",
    "def train(model, optimizer, x, t):\n",
    "    with tf.GradientTape() as tape:\n",
    "        tape.watch([model.trainable_variables])\n",
    "        current_loss = loss(model, x, t)\n",
    "        \n",
    "    grads = tape.gradient(current_loss, model.trainable_variables)\n",
    "    optimizer.apply_gradients(zip(grads, model.trainable_variables))\n",
    "\n",
    "# Setting up data\n",
    "Q = np.random.rand(6,6)\n",
    "A = (Q.T + Q)/2\n",
    "\n",
    "Nt = 3\n",
    "Nx = 6\n",
    "x_np = np.random.rand(6,1)\n",
    "t_np = np.linspace(0, 1, Nt)\n",
    "\n",
    "X, T = np.meshgrid(x_np, t_np)\n",
    "\n",
    "x = X.ravel()\n",
    "t = T.ravel()\n",
    "\n",
    "zeros = tf.reshape(tf.convert_to_tensor(np.zeros(x.shape)), shape=(-1,1))\n",
    "x = tf.reshape(tf.convert_to_tensor(x), shape=(-1,1))\n",
    "t = tf.reshape(tf.convert_to_tensor(t), shape=(-1,1))\n",
    "\n",
    "# Setting up model\n",
    "model = Sequential()\n",
    "model.add(Dense(20, activation='sigmoid'))\n",
    "model.add(Dense(1, activation=\"linear\"))\n",
    "model.build(tf.concat([x,t], 1).shape)\n",
    "\n",
    "eta = 0.001\n",
    "sgd = optimizers.SGD(lr=eta)\n",
    "\n",
    "# Training model\n",
    "num_iter = 1\n",
    "for i in range(num_iter):\n",
    "    train(model, sgd, x, t)\n",
    "    \n",
    "# Output of model\n",
    "g_dnn = model(tf.concat([x,t], 1))\n",
    "G_dnn = np.array(g_dnn).reshape((Nt, Nx))"
   ]
  },
  {
   "cell_type": "code",
   "execution_count": 30,
   "metadata": {},
   "outputs": [
    {
     "name": "stdout",
     "output_type": "stream",
     "text": [
      "[[0.38968398]\n",
      " [0.58642188]\n",
      " [0.48664111]\n",
      " [0.23066979]\n",
      " [0.29713656]\n",
      " [0.84394143]]\n",
      "[0.04321957 0.02553219 0.03450651 0.05749746 0.05153091 0.00232582]\n",
      "[0.16252701 0.11036629 0.12537468 0.14079259 0.11568308 0.09997688]\n",
      "[ 3.76049566  4.32263256  3.63336334  2.44867493  2.24492589 42.98572667]\n"
     ]
    }
   ],
   "source": [
    "print(x_np)\n",
    "eig = np.array(G_dnn[0])\n",
    "print(eig)\n",
    "print(A @ eig)\n",
    "print(A @ eig / eig)"
   ]
  },
  {
   "cell_type": "code",
   "execution_count": 31,
   "metadata": {},
   "outputs": [
    {
     "name": "stdout",
     "output_type": "stream",
     "text": [
      "tf.Tensor(\n",
      "[0.03887657 0.03863317 0.03881669 0.03921945 0.03921788 0.03790566\n",
      " 0.03648776 0.03767938 0.0372142  0.03908929 0.03957199 0.03540694\n",
      " 0.03138635 0.03839526 0.03469447 0.03990511 0.04212143 0.03261751], shape=(18,), dtype=float64)\n"
     ]
    }
   ],
   "source": [
    "print(loss(model, x, t))"
   ]
  },
  {
   "cell_type": "code",
   "execution_count": null,
   "metadata": {},
   "outputs": [],
   "source": [
    "# symmetric matrix\n",
    "Q = np.random.rand(6,6)\n",
    "A = (Q.T + Q)/2\n",
    "print(A)"
   ]
  },
  {
   "cell_type": "code",
   "execution_count": null,
   "metadata": {},
   "outputs": [],
   "source": [
    "# eigenvalues from max to min\n",
    "eigenvalues, v = np.linalg.eig(A)\n",
    "print(eigenvalues)"
   ]
  },
  {
   "cell_type": "code",
   "execution_count": null,
   "metadata": {},
   "outputs": [],
   "source": [
    "def eigenvecsolver(xin, A, nits, dt): # xin is inputvector\n",
    "    x = np.zeros((len(xin),nits))\n",
    "    x[:,0] = xin\n",
    "    for i in range(nits-1):\n",
    "        x[:,i+1] = x[:,i] - x[:,i] * dt + (xin.T @ xin * A + (1 - xin.T @ A * xin) * np.eye(len(A))) @ xin * dt\n",
    "    return x"
   ]
  },
  {
   "cell_type": "code",
   "execution_count": null,
   "metadata": {},
   "outputs": [],
   "source": [
    "xtry = np.random.rand(6)\n",
    "nits = 100000\n",
    "dt = 0.001\n",
    "x = eigenvecsolver(xtry,A,nits,dt)\n",
    "t = np.linspace(0,nits,nits)"
   ]
  },
  {
   "cell_type": "code",
   "execution_count": null,
   "metadata": {},
   "outputs": [],
   "source": [
    "svar = x[:, -1]\n",
    "print(svar)\n",
    "print(A @ svar / svar)"
   ]
  },
  {
   "cell_type": "code",
   "execution_count": null,
   "metadata": {},
   "outputs": [],
   "source": [
    "for i in range(len(x)):\n",
    "    plt.plot(t,x[i,:])"
   ]
  },
  {
   "cell_type": "code",
   "execution_count": null,
   "metadata": {},
   "outputs": [],
   "source": []
  }
 ],
 "metadata": {
  "kernelspec": {
   "display_name": "Python 3",
   "language": "python",
   "name": "python3"
  },
  "language_info": {
   "codemirror_mode": {
    "name": "ipython",
    "version": 3
   },
   "file_extension": ".py",
   "mimetype": "text/x-python",
   "name": "python",
   "nbconvert_exporter": "python",
   "pygments_lexer": "ipython3",
   "version": "3.6.12"
  }
 },
 "nbformat": 4,
 "nbformat_minor": 4
}
