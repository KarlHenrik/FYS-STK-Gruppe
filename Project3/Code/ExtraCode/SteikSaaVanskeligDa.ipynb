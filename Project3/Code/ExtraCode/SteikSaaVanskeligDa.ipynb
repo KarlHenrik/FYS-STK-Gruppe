{
 "cells": [
  {
   "cell_type": "code",
   "execution_count": 1,
   "metadata": {},
   "outputs": [],
   "source": [
    "import tensorflow as tf\n",
    "import numpy as np\n",
    "import matplotlib.pyplot as plt\n",
    "from matplotlib import cm\n",
    "from mpl_toolkits.mplot3d import axes3d\n",
    "from tensorflow.keras.models import Sequential      #This allows appending layers to existing models\n",
    "from tensorflow.keras.layers import Dense           #This allows defining the characteristics of a particular layer\n",
    "from tensorflow.keras import optimizers             #This allows using whichever optimiser we want (sgd,adam,RMSprop)\n",
    "from tensorflow.keras.regularizers import l2\n",
    "tf.keras.backend.set_floatx('float64')"
   ]
  },
  {
   "cell_type": "code",
   "execution_count": 343,
   "metadata": {},
   "outputs": [
    {
     "name": "stdout",
     "output_type": "stream",
     "text": [
      "[0.90708177 0.15109632 0.23371869 0.16161883 0.20751538 0.17482808]\n",
      "3.4583209111738995\n",
      "[ 3.45832091  0.59379017 -0.18341679 -0.68118804 -1.27950289 -1.07659957]\n"
     ]
    }
   ],
   "source": [
    "# Setting up data\n",
    "Q = np.random.rand(6,6)\n",
    "A = (Q.T + Q)/2 - np.eye(6)\n",
    "A[0,0] += 3\n",
    "\n",
    "# eigenvalues from max to min\n",
    "eigenvalues, v = np.linalg.eig(A)\n",
    "eig_vec_anal = v[:,0]\n",
    "eig_val_anal = eigenvalues[0]\n",
    "print(eig_vec_anal)\n",
    "print(eig_val_anal)\n",
    "print(eigenvalues)"
   ]
  },
  {
   "cell_type": "code",
   "execution_count": 345,
   "metadata": {},
   "outputs": [
    {
     "name": "stdout",
     "output_type": "stream",
     "text": [
      "tf.Tensor(\n",
      "[[3.33066907e-16]\n",
      " [2.22044605e-16]\n",
      " [5.27355937e-16]\n",
      " [1.11022302e-16]\n",
      " [1.94289029e-16]\n",
      " [2.49800181e-16]], shape=(6, 1), dtype=float64)\n"
     ]
    }
   ],
   "source": [
    "x = tf.reshape(tf.convert_to_tensor(eig_vec_anal), (-1, 1))\n",
    "rhs1 = -x + ((tf.transpose(x) @ x)[0] * A + (1 - (tf.transpose(x) @ A @ x)[0]) * np.eye(6)) @ x\n",
    "print(rhs1)"
   ]
  },
  {
   "cell_type": "code",
   "execution_count": 531,
   "metadata": {},
   "outputs": [],
   "source": [
    "def loss(model, x, t):\n",
    "    with tf.GradientTape() as tape_t:\n",
    "        tape_t.watch([t])\n",
    "        x_net = x + t / (t + 1) * model(tf.concat([x,t], 1))\n",
    "    dx_dt = tape_t.gradient(x_net, t)\n",
    "\n",
    "    x_net = tf.transpose(tf.reshape(x_net, (-1, 6)))\n",
    "    Ax = A @ x_net\n",
    "    xTx = tf.einsum(\"ij,ji->i\", tf.transpose(x_net), x_net)\n",
    "    xTAx = tf.einsum(\"ij,ji->i\", tf.transpose(x_net), Ax)\n",
    "    fx = xTx * Ax + (1 - xTAx) * x_net\n",
    "    \n",
    "    #rhs = -x + (tf.transpose(x) @ x @ A + (1 - tf.transpose(x) @ A @ x) @ np.eye(6)) @ x\n",
    "    rhs = tf.reshape(tf.transpose(fx - x_net), (-1, 1))\n",
    "    return tf.losses.mean_squared_error(zeros, dx_dt - rhs)\n",
    "\n",
    "def train(model, optimizer, x, t):\n",
    "    with tf.GradientTape() as tape:\n",
    "        current_loss = loss(model, x, t)\n",
    "\n",
    "    grads = tape.gradient(current_loss, model.trainable_variables)\n",
    "    optimizer.apply_gradients(zip(grads, model.trainable_variables))\n",
    "\n",
    "Nt = 30\n",
    "Nx = 6\n",
    "T_n = 5\n",
    "x_np = np.random.rand(6,1)\n",
    "#x_np = eig_vec_anal + x_np / 100\n",
    "t_np = np.linspace(0, T_n, Nt)\n",
    "\n",
    "X, T = np.meshgrid(x_np, t_np)\n",
    "\n",
    "x = X.ravel()\n",
    "t = T.ravel()\n",
    "\n",
    "zeros = tf.reshape(tf.convert_to_tensor(np.zeros(x.shape)), shape=(-1,1))\n",
    "x = tf.reshape(tf.convert_to_tensor(x, dtype=tf.dtypes.float64), shape=(-1,1))\n",
    "t = tf.reshape(tf.convert_to_tensor(t), shape=(-1,1))\n",
    "\n",
    "# Setting up model\n",
    "model = Sequential()\n",
    "#model.add(Dense(50, activation='sigmoid', kernel_regularizer=l2(0.01), bias_regularizer=l2(0.01)))\n",
    "model.add(Dense(50, activation='sigmoid'))\n",
    "model.add(Dense(1, activation=\"linear\"))\n",
    "model.build(tf.concat([x,t], 1).shape)\n",
    "\n",
    "eta = 0.00001\n",
    "sgd = optimizers.SGD(lr=eta)\n",
    "# Training model\n",
    "#num_iter = 1\n",
    "#for i in range(num_iter):\n",
    "#    train(model, sgd, x, t)\n",
    "    \n",
    "# Output of model\n",
    "g_dnn = x + t / T_n * model(tf.concat([x,t], 1))\n",
    "G_dnn = np.array(g_dnn).reshape((Nt, Nx))"
   ]
  },
  {
   "cell_type": "code",
   "execution_count": 533,
   "metadata": {},
   "outputs": [],
   "source": [
    "for i in range(100):\n",
    "    train(model, sgd, x, t)\n",
    "    \n",
    "# Output of model\n",
    "g_dnn = x + t / T_n * model(tf.concat([x,t], 1))\n",
    "G_dnn = np.array(g_dnn).reshape((Nt, Nx))"
   ]
  },
  {
   "cell_type": "code",
   "execution_count": 534,
   "metadata": {},
   "outputs": [
    {
     "name": "stdout",
     "output_type": "stream",
     "text": [
      "[-0.58239717  0.4172033  -0.34685483 -0.40562915 -0.44810563  0.03336191]\n",
      "-2.000 +- 6.570\n"
     ]
    }
   ],
   "source": [
    "eig_vec = np.array(G_dnn[-1])\n",
    "eig_vec /= np.linalg.norm(eig_vec)\n",
    "print(eig_vec)\n",
    "print(f\"{np.mean(A @ eig_vec / eig_vec):.3f} +- {np.std(A @ eig_vec / eig_vec):.3f}\")\n",
    "#print(A @ eig_vec / eig_vec)"
   ]
  },
  {
   "cell_type": "code",
   "execution_count": 432,
   "metadata": {},
   "outputs": [
    {
     "name": "stdout",
     "output_type": "stream",
     "text": [
      "[0.90708177 0.15109632 0.23371869 0.16161883 0.20751538 0.17482808]\n",
      "3.4583209111738995\n"
     ]
    }
   ],
   "source": [
    "# eigenvalues from max to min\n",
    "eigenvalues, v = np.linalg.eig(A)\n",
    "eig_vec_anal = v[:,0]\n",
    "eig_val_anal = eigenvalues[0]\n",
    "print(eig_vec_anal)\n",
    "print(eig_val_anal)"
   ]
  },
  {
   "cell_type": "code",
   "execution_count": 35,
   "metadata": {},
   "outputs": [
    {
     "name": "stdout",
     "output_type": "stream",
     "text": [
      "[ 2.81331436  0.81630023 -1.5837526  -0.22169886 -0.62834936 -0.7823597 ]\n",
      "[[ 0.85606148  0.4832934   0.05486941  0.1252647   0.11908508  0.02651567]\n",
      " [ 0.17748834 -0.37919208  0.19117362  0.45710149 -0.13930298 -0.74820907]\n",
      " [ 0.26744314 -0.60458105 -0.47222468  0.26462988  0.39518802  0.33727916]\n",
      " [ 0.14666665 -0.36624103  0.79905634 -0.27008675  0.30269604  0.20320831]\n",
      " [ 0.22822875 -0.25049329  0.08475942  0.08106214 -0.8393473   0.40854086]\n",
      " [ 0.30088426 -0.24544496 -0.3029367  -0.79108792 -0.11879003 -0.34281719]]\n"
     ]
    }
   ],
   "source": [
    "print(eigenvalues)\n",
    "print(v)"
   ]
  },
  {
   "cell_type": "code",
   "execution_count": 535,
   "metadata": {},
   "outputs": [
    {
     "data": {
      "image/png": "[encoded data removed]",
      "text/plain": [
       "<Figure size 432x288 with 1 Axes>"
      ]
     },
     "metadata": {
      "needs_background": "light"
     },
     "output_type": "display_data"
    }
   ],
   "source": [
    "for i in range(Nx):\n",
    "    plt.plot(t_np, G_dnn[:, i])"
   ]
  },
  {
   "cell_type": "code",
   "execution_count": null,
   "metadata": {},
   "outputs": [],
   "source": []
  }
 ],
 "metadata": {
  "kernelspec": {
   "display_name": "Python 3",
   "language": "python",
   "name": "python3"
  },
  "language_info": {
   "codemirror_mode": {
    "name": "ipython",
    "version": 3
   },
   "file_extension": ".py",
   "mimetype": "text/x-python",
   "name": "python",
   "nbconvert_exporter": "python",
   "pygments_lexer": "ipython3",
   "version": "3.6.12"
  }
 },
 "nbformat": 4,
 "nbformat_minor": 4
}
