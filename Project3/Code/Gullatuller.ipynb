{
 "cells": [
  {
   "cell_type": "code",
   "execution_count": 1,
   "metadata": {},
   "outputs": [],
   "source": [
    "# import\n",
    "import numpy as np\n",
    "import matplotlib.pyplot as plt"
   ]
  },
  {
   "cell_type": "code",
   "execution_count": 2,
   "metadata": {},
   "outputs": [],
   "source": [
    "from explicitScheme import diffusionSolver"
   ]
  },
  {
   "cell_type": "code",
   "execution_count": 5,
   "metadata": {},
   "outputs": [
    {
     "data": {
      "image/png": "[encoded data removed]",
      "text/plain": [
       "<Figure size 432x288 with 2 Axes>"
      ]
     },
     "metadata": {
      "needs_background": "light"
     },
     "output_type": "display_data"
    }
   ],
   "source": [
    "dx = 0.01\n",
    "dt = dx**2 * 0.5\n",
    "L = 1\n",
    "time = 0.5\n",
    "try1 = diffusionSolver(dx, dt, L, time)\n",
    "x, t, u = try1.expScheme()\n",
    "plt.subplot(221)\n",
    "try1.plot2D(u)\n",
    "plt.subplot(222)\n",
    "try1.quiverplot(u)"
   ]
  },
  {
   "cell_type": "code",
   "execution_count": null,
   "metadata": {},
   "outputs": [],
   "source": [
    "# symmetric matrix\n",
    "Q = np.random.rand(5,5)\n",
    "A = (Q.T + Q)/2\n",
    "#print(A)"
   ]
  },
  {
   "cell_type": "code",
   "execution_count": null,
   "metadata": {},
   "outputs": [],
   "source": [
    "def expscheme(dx, stablim,L,time):\n",
    "    dt = dx**2*stablim\n",
    "    Nx = int(L/dx)\n",
    "    Nt = int(time/dt)\n",
    "    t = np.zeros(Nt)\n",
    "    u = np.zeros((Nx,Nt)) # u(x,t)\n",
    " \n",
    "    for j in range(Nt-1): # tid\n",
    "        t[j+1] = t[j] + dt\n",
    "        for i in range(1,Nx-1): # sted\n",
    "            u[i,0] = np.sin(np.pi*(dx*i))\n",
    "            alpha = dt/dx**2\n",
    "            u[i,j+1] = alpha*u[i-1,j] + (1 - 2*alpha)*(u[i,j]) + alpha*u[i+1,j]\n",
    "    return t, u"
   ]
  },
  {
   "cell_type": "code",
   "execution_count": null,
   "metadata": {},
   "outputs": [],
   "source": [
    "def analsol(dx, stablim,L,time):\n",
    "    dt = dx**2*stablim\n",
    "    Nx = int(L/dx)\n",
    "    Nt = int(time/dt)\n",
    "    t = np.zeros(Nt)\n",
    "    u = np.zeros((Nx,Nt)) # u(x,t)\n",
    "    \n",
    "    for j in range(Nt-1): # tid\n",
    "        t[j+1] = t[j] + dt\n",
    "        for i in range(1,Nx-1): # sted\n",
    "            x = dx*i\n",
    "            u[i,0] = np.sin(np.pi*x)\n",
    "            u[i,j+1] = np.exp(-np.pi**2*t[j+1])*np.sin(np.pi*x)\n",
    "    return t, u"
   ]
  },
  {
   "cell_type": "code",
   "execution_count": null,
   "metadata": {},
   "outputs": [],
   "source": [
    "# approximation\n",
    "\n",
    "f = plt.figure(figsize=(14,7))\n",
    "f.suptitle('temperature gradient of a rod.')\n",
    "ax1 = f.add_subplot(121)\n",
    "ax2 = f.add_subplot(122)\n",
    "\n",
    "t, u = expscheme(1/10,1/3,1,0.5)\n",
    "for j in range(0,10):\n",
    "    ax1.plot(t,u[j,:], label = f'part {j+1}/10')\n",
    "ax1.set_xlabel('t [s]'); ax1.set_ylabel(r'$u$ ')\n",
    "ax1.legend()\n",
    "\n",
    "t, u = expscheme(1/100,1/3,1,0.5)\n",
    "for j in range(0,100,10):\n",
    "    ax2.plot(t,u[j,:], label = f'part {j+1}/100')\n",
    "ax2.set_xlabel('t [s]'); ax2.set_ylabel(r'$u$ ')\n",
    "ax2.legend()"
   ]
  },
  {
   "cell_type": "code",
   "execution_count": null,
   "metadata": {},
   "outputs": [],
   "source": [
    "# analytical solution\n",
    "\n",
    "f = plt.figure(figsize=(20,7))\n",
    "f.suptitle('temperature gradient of a rod.')\n",
    "ax1 = f.add_subplot(131)\n",
    "ax2 = f.add_subplot(132)\n",
    "\n",
    "t, u = analsol(1/10,1/3,1,0.5)\n",
    "for j in range(0,10):\n",
    "    ax1.plot(t,u[j,:], label = f'part {j+1}/10')\n",
    "ax1.set_xlabel('t [s]'); ax1.set_ylabel(r'$u$ ')\n",
    "ax1.legend()\n",
    "\n",
    "t, u = analsol(1/100,1/3,1,0.5)\n",
    "for j in range(0,100,10):\n",
    "    ax2.plot(t,u[j,:], label = f'part {j+1}/100')\n",
    "ax2.set_xlabel('t [s]'); ax2.set_ylabel(r'$u$ ')\n",
    "ax2.legend()"
   ]
  },
  {
   "cell_type": "code",
   "execution_count": null,
   "metadata": {},
   "outputs": [],
   "source": []
  }
 ],
 "metadata": {
  "kernelspec": {
   "display_name": "Python 3",
   "language": "python",
   "name": "python3"
  },
  "language_info": {
   "codemirror_mode": {
    "name": "ipython",
    "version": 3
   },
   "file_extension": ".py",
   "mimetype": "text/x-python",
   "name": "python",
   "nbconvert_exporter": "python",
   "pygments_lexer": "ipython3",
   "version": "3.8.3"
  }
 },
 "nbformat": 4,
 "nbformat_minor": 4
}
