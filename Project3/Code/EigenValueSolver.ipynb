{
 "cells": [
  {
   "cell_type": "code",
   "execution_count": 21,
   "metadata": {},
   "outputs": [],
   "source": [
    "import tensorflow as tf\n",
    "import numpy as np\n",
    "import matplotlib.pyplot as plt\n",
    "from matplotlib import cm\n",
    "from mpl_toolkits.mplot3d import axes3d\n",
    "from tensorflow.keras.models import Sequential      #This allows appending layers to existing models\n",
    "from tensorflow.keras.layers import Dense           #This allows defining the characteristics of a particular layer\n",
    "from tensorflow.keras import optimizers             #This allows using whichever optimiser we want (sgd,adam,RMSprop)\n",
    "from tensorflow.keras.regularizers import l2\n",
    "tf.keras.backend.set_floatx('float64')"
   ]
  },
  {
   "cell_type": "code",
   "execution_count": 22,
   "metadata": {},
   "outputs": [
    {
     "name": "stdout",
     "output_type": "stream",
     "text": [
      "2.0714271785626925\n",
      "[-0.51000837 -0.43109618 -0.41641456 -0.37701696 -0.40738339 -0.26933892]\n"
     ]
    }
   ],
   "source": [
    "# Setting up data\n",
    "N = 6\n",
    "Q = np.random.rand(N, N)\n",
    "A = (Q.T + Q)/2 - np.eye(N)\n",
    "\n",
    "# eigenvalues from max to min\n",
    "eigenvalues, v = np.linalg.eig(A)\n",
    "eig_vec_anal = v[:,0]\n",
    "eig_val_anal = eigenvalues[0]\n",
    "print(eig_val_anal)\n",
    "print(eig_vec_anal)"
   ]
  },
  {
   "cell_type": "code",
   "execution_count": 35,
   "metadata": {},
   "outputs": [],
   "source": [
    "def loss(model, x0, t):\n",
    "    with tf.GradientTape() as tape_t:\n",
    "        tape_t.watch([t])\n",
    "        x_net = tf.exp(-t) @ x0 + model(t) * (1-tf.exp(-t))\n",
    "    dx_dt = tape_t.batch_jacobian(x_net, t)[:, :, 0] # This takes the gradient of each element of x for each time step\n",
    "    \n",
    "    dx_dt = tf.transpose(dx_dt) # We need to transpose, as x_net is a collection of row vectors,\n",
    "    x_net = tf.transpose(x_net) # but we need a collection of column vectors for the matrix multiplications\n",
    "    \n",
    "    Ax = A @ x_net\n",
    "    xTx = tf.einsum(\"ij,ji->i\", tf.transpose(x_net), x_net)\n",
    "    xTAx = tf.einsum(\"ij,ji->i\", tf.transpose(x_net), Ax)\n",
    "    fx = xTx * Ax + (1 - xTAx) * x_net\n",
    "    \n",
    "    return tf.losses.mean_squared_error(zeros, dx_dt - fx + x_net)\n",
    "\n",
    "def train(model, optimizer, x0, t):\n",
    "    with tf.GradientTape() as tape:\n",
    "        current_loss = loss(model, x0, t)\n",
    "\n",
    "    grads = tape.gradient(current_loss, model.trainable_variables)\n",
    "    optimizer.apply_gradients(zip(grads, model.trainable_variables))\n",
    "\n",
    "x0 = np.random.rand(N, 1) * 2 - 1\n",
    "x0 /= np.linalg.norm(x0) # normalize\n",
    "x0 = tf.reshape(tf.convert_to_tensor(x0, dtype=tf.dtypes.float64), shape=(1, -1)) # row vector, since the NN outputs row vectors\n",
    "\n",
    "Nt = 50\n",
    "T_n = 10\n",
    "t = np.linspace(0, T_n, Nt)\n",
    "t = tf.reshape(tf.convert_to_tensor(t, dtype=tf.dtypes.float64), shape=(-1, 1)) # column vector\n",
    "\n",
    "zeros = tf.convert_to_tensor(np.zeros((N, Nt)))\n",
    "\n",
    "# Setting up model\n",
    "model = Sequential()\n",
    "model.add(Dense(100, activation='sigmoid'))\n",
    "model.add(Dense(50, activation='sigmoid'))\n",
    "model.add(Dense(25, activation='sigmoid'))\n",
    "model.add(Dense(N, activation=\"linear\"))\n",
    "model.build(t.shape)\n",
    "\n",
    "eta = 0.01\n",
    "sgd = optimizers.Adam(eta)\n",
    "train(model, sgd, x0, t)\n",
    "g_dnn = tf.transpose(tf.exp(-t) @ x0 + model(t) * (1-tf.exp(-t)))"
   ]
  },
  {
   "cell_type": "code",
   "execution_count": 37,
   "metadata": {},
   "outputs": [],
   "source": [
    "iters = 100\n",
    "for i in range(iters):\n",
    "    train(model, sgd, x0, t)\n",
    "    \n",
    "# Output of model\n",
    "g_dnn = tf.transpose(tf.exp(-t) @ x0 + model(t) * (1-tf.exp(-t)))"
   ]
  },
  {
   "cell_type": "code",
   "execution_count": 38,
   "metadata": {},
   "outputs": [
    {
     "name": "stdout",
     "output_type": "stream",
     "text": [
      "[0.5798521  0.49972177 0.38980593 0.14936122 0.38265445 0.3055615 ]\n",
      "2.492 +- 1.428\n"
     ]
    },
    {
     "data": {
      "image/png": "[encoded data removed]",
      "text/plain": [
       "<Figure size 432x288 with 1 Axes>"
      ]
     },
     "metadata": {
      "needs_background": "light"
     },
     "output_type": "display_data"
    }
   ],
   "source": [
    "eig_vec = np.array(g_dnn[:, -1])\n",
    "eig_vec /= np.linalg.norm(eig_vec)\n",
    "print(eig_vec)\n",
    "print(f\"{np.mean(A @ eig_vec / eig_vec):.3f} +- {np.std(A @ eig_vec / eig_vec):.3f}\")\n",
    "\n",
    "for i in range(N):\n",
    "    plt.plot(np.linspace(0, T_n, Nt), g_dnn[i, :])"
   ]
  },
  {
   "cell_type": "code",
   "execution_count": 31,
   "metadata": {},
   "outputs": [
    {
     "name": "stdout",
     "output_type": "stream",
     "text": [
      "[-0.51000837 -0.43109618 -0.41641456 -0.37701696 -0.40738339 -0.26933892]\n",
      "2.0714271785626925\n"
     ]
    }
   ],
   "source": [
    "# eigenvalues from max to min\n",
    "eigenvalues, v = np.linalg.eig(A)\n",
    "eig_vec_anal = v[:,0]\n",
    "eig_val_anal = eigenvalues[0]\n",
    "print(eig_vec_anal)\n",
    "print(eig_val_anal)"
   ]
  },
  {
   "cell_type": "code",
   "execution_count": 32,
   "metadata": {},
   "outputs": [
    {
     "name": "stdout",
     "output_type": "stream",
     "text": [
      "[ 2.07142718 -0.32763347 -1.58426596 -1.27567691 -0.96607392 -0.83561776]\n",
      "[[-0.51000837 -0.54930443 -0.1532937  -0.2838332  -0.57684937  0.03661519]\n",
      " [-0.43109618 -0.18053997  0.67583767  0.39070761  0.20414785  0.36121471]\n",
      " [-0.41641456  0.11898408  0.26180336 -0.37645083  0.32581291 -0.70429499]\n",
      " [-0.37701696  0.80631011  0.01491888 -0.02075567 -0.41661069  0.18304202]\n",
      " [-0.40738339 -0.01225455 -0.57119134  0.64647811  0.1908972  -0.23076692]\n",
      " [-0.26933892  0.03502264 -0.35315913 -0.45464965  0.55624473  0.53422287]]\n"
     ]
    }
   ],
   "source": [
    "print(eigenvalues)\n",
    "print(v)"
   ]
  },
  {
   "cell_type": "code",
   "execution_count": 33,
   "metadata": {},
   "outputs": [
    {
     "name": "stdout",
     "output_type": "stream",
     "text": [
      "[0.51000837 0.43109618 0.41641456 0.37701696 0.40738339 0.26933892]\n",
      "-2.0714271785626925\n"
     ]
    }
   ],
   "source": [
    "# eigenvalues from max to min\n",
    "eigenvalues, v = np.linalg.eig(-A)\n",
    "eig_vec_anal = v[:,0]\n",
    "eig_val_anal = eigenvalues[0]\n",
    "print(eig_vec_anal)\n",
    "print(eig_val_anal)"
   ]
  },
  {
   "cell_type": "code",
   "execution_count": 34,
   "metadata": {},
   "outputs": [
    {
     "name": "stdout",
     "output_type": "stream",
     "text": [
      "[-2.07142718  0.32763347  1.58426596  1.27567691  0.96607392  0.83561776]\n",
      "[[ 0.51000837  0.54930443 -0.1532937  -0.2838332  -0.57684937  0.03661519]\n",
      " [ 0.43109618  0.18053997  0.67583767  0.39070761  0.20414785  0.36121471]\n",
      " [ 0.41641456 -0.11898408  0.26180336 -0.37645083  0.32581291 -0.70429499]\n",
      " [ 0.37701696 -0.80631011  0.01491888 -0.02075567 -0.41661069  0.18304202]\n",
      " [ 0.40738339  0.01225455 -0.57119134  0.64647811  0.1908972  -0.23076692]\n",
      " [ 0.26933892 -0.03502264 -0.35315913 -0.45464965  0.55624473  0.53422287]]\n"
     ]
    }
   ],
   "source": [
    "print(eigenvalues)\n",
    "print(v)"
   ]
  },
  {
   "cell_type": "code",
   "execution_count": null,
   "metadata": {},
   "outputs": [],
   "source": []
  }
 ],
 "metadata": {
  "kernelspec": {
   "display_name": "Python 3",
   "language": "python",
   "name": "python3"
  },
  "language_info": {
   "codemirror_mode": {
    "name": "ipython",
    "version": 3
   },
   "file_extension": ".py",
   "mimetype": "text/x-python",
   "name": "python",
   "nbconvert_exporter": "python",
   "pygments_lexer": "ipython3",
   "version": "3.6.12"
  }
 },
 "nbformat": 4,
 "nbformat_minor": 4
}
