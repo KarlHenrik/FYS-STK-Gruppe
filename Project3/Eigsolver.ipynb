{
 "cells": [
  {
   "cell_type": "code",
   "execution_count": 1,
   "metadata": {},
   "outputs": [],
   "source": [
    "import numpy as np\n",
    "import matplotlib.pyplot as plt"
   ]
  },
  {
   "cell_type": "code",
   "execution_count": 3,
   "metadata": {},
   "outputs": [
    {
     "name": "stdout",
     "output_type": "stream",
     "text": [
      "[[0.04527035 0.6439847  0.20962324 0.74872545 0.46749235]\n",
      " [0.6439847  0.27437841 0.46439066 0.40756364 0.47695604]\n",
      " [0.20962324 0.46439066 0.40975483 0.3861069  0.6291217 ]\n",
      " [0.74872545 0.40756364 0.3861069  0.31388042 0.62000892]\n",
      " [0.46749235 0.47695604 0.6291217  0.62000892 0.08238706]]\n"
     ]
    }
   ],
   "source": [
    "# symmetric matrix\n",
    "Q = np.random.rand(5,5)\n",
    "A = (Q.T + Q)/2\n",
    "print(A)"
   ]
  },
  {
   "cell_type": "code",
   "execution_count": 5,
   "metadata": {},
   "outputs": [
    {
     "name": "stdout",
     "output_type": "stream",
     "text": [
      "[ 2.2538427   0.20520994 -0.70219854 -0.52655713 -0.1046259 ]\n"
     ]
    }
   ],
   "source": [
    "eigenvalues, v = np.linalg.eig(A)\n",
    "print(eigenvalues)"
   ]
  },
  {
   "cell_type": "code",
   "execution_count": null,
   "metadata": {},
   "outputs": [],
   "source": []
  }
 ],
 "metadata": {
  "kernelspec": {
   "display_name": "Python 3",
   "language": "python",
   "name": "python3"
  },
  "language_info": {
   "codemirror_mode": {
    "name": "ipython",
    "version": 3
   },
   "file_extension": ".py",
   "mimetype": "text/x-python",
   "name": "python",
   "nbconvert_exporter": "python",
   "pygments_lexer": "ipython3",
   "version": "3.8.3"
  }
 },
 "nbformat": 4,
 "nbformat_minor": 4
}
